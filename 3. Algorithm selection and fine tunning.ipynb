{
 "cells": [
  {
   "cell_type": "markdown",
   "metadata": {},
   "source": [
    "### V. Algorithm Selection\n",
    "\n",
    "In this part, we create a model, we try different algorithms and see which one delivers the best results. Then we chose the best algorithm and fine tune it. \n",
    "\n",
    "This notebook presents the following parts:\n",
    "\n",
    "    1) Model creation\n",
    "    2) Algorithm testing : Linear Regression (simple, lasso, ridge), Boosted decision tree regressor , Random forest regressor, Bayesian linear regressor\n",
    "    3) Chosing best algorithm\n",
    "    4) Save model\n",
    "\n",
    "\n",
    "     "
   ]
  },
  {
   "cell_type": "code",
   "execution_count": 1,
   "metadata": {},
   "outputs": [],
   "source": [
    "# import libraries\n",
    "import pandas as pd\n",
    "from sklearn import preprocessing\n",
    "import sklearn.model_selection as ms\n",
    "from sklearn import linear_model\n",
    "import sklearn.metrics as sklm\n",
    "import numpy as np\n",
    "import numpy.random as nr\n",
    "import matplotlib.pyplot as plt\n",
    "import seaborn as sns\n",
    "import scipy.stats as ss\n",
    "import math\n",
    "from sklearn.model_selection import train_test_split \n",
    "from sklearn.linear_model import LinearRegression\n",
    "from sklearn import metrics\n",
    "\n",
    "\n",
    "%matplotlib inline\n",
    "%matplotlib inline"
   ]
  },
  {
   "cell_type": "code",
   "execution_count": 2,
   "metadata": {},
   "outputs": [
    {
     "data": {
      "text/plain": [
       "(3198, 44)"
      ]
     },
     "execution_count": 2,
     "metadata": {},
     "output_type": "execute_result"
    }
   ],
   "source": [
    "#import data set\n",
    "df=pd.read_csv('dfformodeling.csv')\n",
    "df.shape"
   ]
  },
  {
   "cell_type": "code",
   "execution_count": 3,
   "metadata": {},
   "outputs": [
    {
     "data": {
      "text/html": [
       "<div>\n",
       "<style scoped>\n",
       "    .dataframe tbody tr th:only-of-type {\n",
       "        vertical-align: middle;\n",
       "    }\n",
       "\n",
       "    .dataframe tbody tr th {\n",
       "        vertical-align: top;\n",
       "    }\n",
       "\n",
       "    .dataframe thead th {\n",
       "        text-align: right;\n",
       "    }\n",
       "</style>\n",
       "<table border=\"1\" class=\"dataframe\">\n",
       "  <thead>\n",
       "    <tr style=\"text-align: right;\">\n",
       "      <th></th>\n",
       "      <th>demo__birth_rate_per_1k</th>\n",
       "      <th>demo__death_rate_per_1k</th>\n",
       "      <th>demo__pct_adults_bachelors_or_higher</th>\n",
       "      <th>demo__pct_adults_less_than_a_high_school_diploma</th>\n",
       "      <th>demo__pct_adults_with_high_school_diploma</th>\n",
       "      <th>demo__pct_adults_with_some_college</th>\n",
       "      <th>demo__pct_american_indian_or_alaskan_native</th>\n",
       "      <th>demo__pct_asian</th>\n",
       "      <th>demo__pct_below_18_years_of_age</th>\n",
       "      <th>demo__pct_female</th>\n",
       "      <th>...</th>\n",
       "      <th>Economic_typo:_Federal/State government-dependent</th>\n",
       "      <th>Economic_typo:_Manufacturing-dependent</th>\n",
       "      <th>Economic_typo:_Mining_farming</th>\n",
       "      <th>Economic_typo:_Nonspecialized</th>\n",
       "      <th>Economic_typo:_Recreation</th>\n",
       "      <th>Area_rucc:_Metro</th>\n",
       "      <th>Area_rucc:_NonMetro</th>\n",
       "      <th>Age_Group:_old</th>\n",
       "      <th>Age_Group:_young</th>\n",
       "      <th>heart_disease_mortality_per_100k</th>\n",
       "    </tr>\n",
       "  </thead>\n",
       "  <tbody>\n",
       "    <tr>\n",
       "      <th>0</th>\n",
       "      <td>0.117909</td>\n",
       "      <td>0.609758</td>\n",
       "      <td>-0.504912</td>\n",
       "      <td>0.665733</td>\n",
       "      <td>1.045102</td>\n",
       "      <td>-1.415408</td>\n",
       "      <td>-0.244441</td>\n",
       "      <td>-0.082609</td>\n",
       "      <td>0.212671</td>\n",
       "      <td>0.704488</td>\n",
       "      <td>...</td>\n",
       "      <td>-0.37262</td>\n",
       "      <td>2.339225</td>\n",
       "      <td>-0.546672</td>\n",
       "      <td>-0.809367</td>\n",
       "      <td>-0.328747</td>\n",
       "      <td>1.354449</td>\n",
       "      <td>-1.354449</td>\n",
       "      <td>-0.511328</td>\n",
       "      <td>0.511328</td>\n",
       "      <td>312</td>\n",
       "    </tr>\n",
       "    <tr>\n",
       "      <th>1</th>\n",
       "      <td>2.673105</td>\n",
       "      <td>-1.184837</td>\n",
       "      <td>0.670671</td>\n",
       "      <td>0.224590</td>\n",
       "      <td>-1.651557</td>\n",
       "      <td>0.789570</td>\n",
       "      <td>-0.197126</td>\n",
       "      <td>0.074713</td>\n",
       "      <td>1.292277</td>\n",
       "      <td>0.171536</td>\n",
       "      <td>...</td>\n",
       "      <td>-0.37262</td>\n",
       "      <td>-0.427358</td>\n",
       "      <td>1.828678</td>\n",
       "      <td>-0.809367</td>\n",
       "      <td>-0.328747</td>\n",
       "      <td>1.354449</td>\n",
       "      <td>-1.354449</td>\n",
       "      <td>-0.511328</td>\n",
       "      <td>0.511328</td>\n",
       "      <td>257</td>\n",
       "    </tr>\n",
       "  </tbody>\n",
       "</table>\n",
       "<p>2 rows × 44 columns</p>\n",
       "</div>"
      ],
      "text/plain": [
       "   demo__birth_rate_per_1k  demo__death_rate_per_1k  \\\n",
       "0                 0.117909                 0.609758   \n",
       "1                 2.673105                -1.184837   \n",
       "\n",
       "   demo__pct_adults_bachelors_or_higher  \\\n",
       "0                             -0.504912   \n",
       "1                              0.670671   \n",
       "\n",
       "   demo__pct_adults_less_than_a_high_school_diploma  \\\n",
       "0                                          0.665733   \n",
       "1                                          0.224590   \n",
       "\n",
       "   demo__pct_adults_with_high_school_diploma  \\\n",
       "0                                   1.045102   \n",
       "1                                  -1.651557   \n",
       "\n",
       "   demo__pct_adults_with_some_college  \\\n",
       "0                           -1.415408   \n",
       "1                            0.789570   \n",
       "\n",
       "   demo__pct_american_indian_or_alaskan_native  demo__pct_asian  \\\n",
       "0                                    -0.244441        -0.082609   \n",
       "1                                    -0.197126         0.074713   \n",
       "\n",
       "   demo__pct_below_18_years_of_age  demo__pct_female  ...  \\\n",
       "0                         0.212671          0.704488  ...   \n",
       "1                         1.292277          0.171536  ...   \n",
       "\n",
       "   Economic_typo:_Federal/State government-dependent  \\\n",
       "0                                           -0.37262   \n",
       "1                                           -0.37262   \n",
       "\n",
       "   Economic_typo:_Manufacturing-dependent  Economic_typo:_Mining_farming  \\\n",
       "0                                2.339225                      -0.546672   \n",
       "1                               -0.427358                       1.828678   \n",
       "\n",
       "   Economic_typo:_Nonspecialized  Economic_typo:_Recreation  Area_rucc:_Metro  \\\n",
       "0                      -0.809367                  -0.328747          1.354449   \n",
       "1                      -0.809367                  -0.328747          1.354449   \n",
       "\n",
       "   Area_rucc:_NonMetro  Age_Group:_old  Age_Group:_young  \\\n",
       "0            -1.354449       -0.511328          0.511328   \n",
       "1            -1.354449       -0.511328          0.511328   \n",
       "\n",
       "   heart_disease_mortality_per_100k  \n",
       "0                               312  \n",
       "1                               257  \n",
       "\n",
       "[2 rows x 44 columns]"
      ]
     },
     "execution_count": 3,
     "metadata": {},
     "output_type": "execute_result"
    }
   ],
   "source": [
    "df.head(2)"
   ]
  },
  {
   "cell_type": "markdown",
   "metadata": {},
   "source": [
    "**1) Model Creation**"
   ]
  },
  {
   "cell_type": "code",
   "execution_count": 4,
   "metadata": {},
   "outputs": [
    {
     "data": {
      "text/plain": [
       "((2238, 43), (960, 43))"
      ]
     },
     "execution_count": 4,
     "metadata": {},
     "output_type": "execute_result"
    }
   ],
   "source": [
    "# separate train and test sets\n",
    "X_train, X_test, y_train, y_test = train_test_split(\n",
    "    df.drop(labels=['heart_disease_mortality_per_100k'], axis=1),\n",
    "    df['heart_disease_mortality_per_100k'],\n",
    "    test_size=0.3,\n",
    "    random_state=0)\n",
    "\n",
    "X_train.shape, X_test.shape"
   ]
  },
  {
   "cell_type": "markdown",
   "metadata": {},
   "source": [
    "**2) Algoirthm testing**"
   ]
  },
  {
   "cell_type": "markdown",
   "metadata": {},
   "source": [
    "2.1Algorithm: **Linear Regression**"
   ]
  },
  {
   "cell_type": "markdown",
   "metadata": {},
   "source": [
    "2.1.1 Linear Regression Simple"
   ]
  },
  {
   "cell_type": "code",
   "execution_count": 5,
   "metadata": {},
   "outputs": [],
   "source": [
    "#Train the Model and predict\n",
    "from sklearn.linear_model import LinearRegression\n",
    "from sklearn.metrics import mean_squared_log_error\n",
    "lm = LinearRegression()\n",
    "lm.fit(X_train,y_train)\n",
    "lm_predictions = lm.predict(X_test)"
   ]
  },
  {
   "cell_type": "code",
   "execution_count": 6,
   "metadata": {},
   "outputs": [
    {
     "name": "stdout",
     "output_type": "stream",
     "text": [
      "Simple Regression RMSLE is 0.12793763949775402\n"
     ]
    }
   ],
   "source": [
    "#print RMSLE\n",
    "print ('Simple Regression RMSLE is', np.sqrt(mean_squared_log_error(y_test, lm_predictions)))"
   ]
  },
  {
   "cell_type": "markdown",
   "metadata": {},
   "source": [
    "2.1.2 Lasso Linear Regression (l1)"
   ]
  },
  {
   "cell_type": "code",
   "execution_count": 7,
   "metadata": {},
   "outputs": [],
   "source": [
    "#Train the Model and predict\n",
    "from sklearn.linear_model import Lasso\n",
    "from sklearn.metrics import mean_squared_log_error\n",
    "Lasso = Lasso()\n",
    "Lasso.fit(X_train,y_train)\n",
    "Lasso_predictions = Lasso.predict(X_test)"
   ]
  },
  {
   "cell_type": "code",
   "execution_count": 8,
   "metadata": {},
   "outputs": [
    {
     "name": "stdout",
     "output_type": "stream",
     "text": [
      "Lasso Regression RMSLE is 0.1264713654708869\n"
     ]
    }
   ],
   "source": [
    "#print RMSLE\n",
    "print ('Lasso Regression RMSLE is', np.sqrt(mean_squared_log_error(y_test, Lasso_predictions)))"
   ]
  },
  {
   "cell_type": "markdown",
   "metadata": {},
   "source": [
    "2.1.3 Ridge Regression (l2)"
   ]
  },
  {
   "cell_type": "code",
   "execution_count": 9,
   "metadata": {},
   "outputs": [],
   "source": [
    "#Train the Model and predict\n",
    "from sklearn.linear_model import Ridge\n",
    "from sklearn.metrics import mean_squared_log_error\n",
    "Ridge = Ridge()\n",
    "Ridge.fit(X_train,y_train)\n",
    "Ridge_predictions = Ridge.predict(X_test)"
   ]
  },
  {
   "cell_type": "code",
   "execution_count": 10,
   "metadata": {},
   "outputs": [
    {
     "name": "stdout",
     "output_type": "stream",
     "text": [
      "Ridge Regression RMSLE is 0.12469258919157813\n"
     ]
    }
   ],
   "source": [
    "#print RMSLE\n",
    "print ('Ridge Regression RMSLE is', np.sqrt(mean_squared_log_error(y_test, Ridge_predictions)))"
   ]
  },
  {
   "cell_type": "markdown",
   "metadata": {},
   "source": [
    "2.2 Algorithm: **Boosted Decision Tree Regressor**"
   ]
  },
  {
   "cell_type": "code",
   "execution_count": 11,
   "metadata": {},
   "outputs": [],
   "source": [
    "#Train the Model and predict\n",
    "from sklearn.tree import DecisionTreeRegressor\n",
    "from sklearn.metrics import mean_squared_log_error\n",
    "Tree = DecisionTreeRegressor()\n",
    "Tree.fit(X_train,y_train)\n",
    "Tree_predictions = Tree.predict(X_test)"
   ]
  },
  {
   "cell_type": "code",
   "execution_count": 12,
   "metadata": {},
   "outputs": [
    {
     "name": "stdout",
     "output_type": "stream",
     "text": [
      "Boosted Decision Tree Regression RMSLE is 0.16514766057063374\n"
     ]
    }
   ],
   "source": [
    "#print RMSLE\n",
    "print ('Boosted Decision Tree Regression RMSLE is', np.sqrt(mean_squared_log_error(y_test, Tree_predictions)))"
   ]
  },
  {
   "cell_type": "markdown",
   "metadata": {},
   "source": [
    "2.3 Algorithm: **Random Forest Regressor**"
   ]
  },
  {
   "cell_type": "code",
   "execution_count": 13,
   "metadata": {},
   "outputs": [
    {
     "name": "stderr",
     "output_type": "stream",
     "text": [
      "/anaconda3/envs/featsel/lib/python3.6/site-packages/sklearn/ensemble/forest.py:245: FutureWarning: The default value of n_estimators will change from 10 in version 0.20 to 100 in 0.22.\n",
      "  \"10 in version 0.20 to 100 in 0.22.\", FutureWarning)\n"
     ]
    }
   ],
   "source": [
    "#Train the Model and predict\n",
    "from sklearn.ensemble import RandomForestRegressor\n",
    "from sklearn.metrics import mean_squared_log_error\n",
    "Forest = RandomForestRegressor()\n",
    "Forest.fit(X_train,y_train)\n",
    "Forest_predictions = Forest.predict(X_test)"
   ]
  },
  {
   "cell_type": "code",
   "execution_count": 14,
   "metadata": {},
   "outputs": [
    {
     "name": "stdout",
     "output_type": "stream",
     "text": [
      "Random Forest Regression RMSLE is 0.11890527806414833\n"
     ]
    }
   ],
   "source": [
    "#print RMSLE\n",
    "print ('Random Forest Regression RMSLE is', np.sqrt(mean_squared_log_error(y_test, Forest_predictions)))"
   ]
  },
  {
   "cell_type": "markdown",
   "metadata": {},
   "source": [
    "2.4 Algorithm: **Bayesian Linear Regressor**"
   ]
  },
  {
   "cell_type": "code",
   "execution_count": 15,
   "metadata": {},
   "outputs": [],
   "source": [
    "#Train the Model and predict\n",
    "from sklearn.linear_model import BayesianRidge\n",
    "from sklearn.metrics import mean_squared_log_error\n",
    "Bayesian = BayesianRidge()\n",
    "Bayesian.fit(X_train,y_train)\n",
    "Bayesian_predictions = Bayesian.predict(X_test)"
   ]
  },
  {
   "cell_type": "code",
   "execution_count": 16,
   "metadata": {
    "scrolled": true
   },
   "outputs": [
    {
     "name": "stdout",
     "output_type": "stream",
     "text": [
      "Bayesian Ridge Regression RMSLE is 0.12500121290260072\n"
     ]
    }
   ],
   "source": [
    "#print RMSLE\n",
    "print ('Bayesian Ridge Regression RMSLE is', np.sqrt(mean_squared_log_error(y_test, Bayesian_predictions)))"
   ]
  },
  {
   "cell_type": "markdown",
   "metadata": {},
   "source": [
    "2.5 Algorithm: **XGBoost Regressor**"
   ]
  },
  {
   "cell_type": "code",
   "execution_count": 18,
   "metadata": {},
   "outputs": [
    {
     "name": "stderr",
     "output_type": "stream",
     "text": [
      "/anaconda3/envs/featsel/lib/python3.6/site-packages/xgboost/core.py:587: FutureWarning: Series.base is deprecated and will be removed in a future version\n",
      "  if getattr(data, 'base', None) is not None and \\\n"
     ]
    }
   ],
   "source": [
    "import xgboost as xgb\n",
    "\n",
    "xgb=xgb.XGBRegressor()\n",
    "xgb.fit(X_train,y_train)\n",
    "xgb_predictions = xgb.predict(X_test)"
   ]
  },
  {
   "cell_type": "code",
   "execution_count": 19,
   "metadata": {},
   "outputs": [
    {
     "name": "stdout",
     "output_type": "stream",
     "text": [
      "XGB Regression RMSLE is 0.1161786309567886\n"
     ]
    }
   ],
   "source": [
    "#print RMSLE\n",
    "print ('XGB Regression RMSLE is', np.sqrt(mean_squared_log_error(y_test, xgb_predictions)))"
   ]
  },
  {
   "cell_type": "markdown",
   "metadata": {},
   "source": [
    "**3. Compare and chose best model**"
   ]
  },
  {
   "cell_type": "code",
   "execution_count": 20,
   "metadata": {},
   "outputs": [
    {
     "name": "stdout",
     "output_type": "stream",
     "text": [
      "Simple Regression RMSLE is 0.12793763949775402\n",
      "Lasso Regression RMSLE is 0.1264713654708869\n",
      "Ridge Regression RMSLE is 0.12469258919157813\n",
      "Boosted Decision Tree Regression RMSLE is 0.16514766057063374\n",
      "Random Forest Regression RMSLE is 0.11890527806414833\n",
      "Bayesian Ridge Regression RMSLE is 0.12500121290260072\n",
      "XGB Regression RMSLE is 0.1161786309567886\n"
     ]
    }
   ],
   "source": [
    "print ('Simple Regression RMSLE is', np.sqrt(mean_squared_log_error(y_test, lm_predictions)))\n",
    "print ('Lasso Regression RMSLE is', np.sqrt(mean_squared_log_error(y_test, Lasso_predictions)))\n",
    "print ('Ridge Regression RMSLE is', np.sqrt(mean_squared_log_error(y_test, Ridge_predictions)))\n",
    "print ('Boosted Decision Tree Regression RMSLE is', np.sqrt(mean_squared_log_error(y_test, Tree_predictions)))\n",
    "print ('Random Forest Regression RMSLE is', np.sqrt(mean_squared_log_error(y_test, Forest_predictions)))\n",
    "print ('Bayesian Ridge Regression RMSLE is', np.sqrt(mean_squared_log_error(y_test, Bayesian_predictions)))\n",
    "print ('XGB Regression RMSLE is', np.sqrt(mean_squared_log_error(y_test, xgb_predictions)))"
   ]
  },
  {
   "cell_type": "markdown",
   "metadata": {},
   "source": [
    "Clearly, **XGB Regressor** is the best model. \n",
    "\n"
   ]
  }
 ],
 "metadata": {
  "kernelspec": {
   "display_name": "Python 3",
   "language": "python",
   "name": "python3"
  },
  "language_info": {
   "codemirror_mode": {
    "name": "ipython",
    "version": 3
   },
   "file_extension": ".py",
   "mimetype": "text/x-python",
   "name": "python",
   "nbconvert_exporter": "python",
   "pygments_lexer": "ipython3",
   "version": "3.6.8"
  }
 },
 "nbformat": 4,
 "nbformat_minor": 2
}
