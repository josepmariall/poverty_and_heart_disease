{
 "cells": [
  {
   "cell_type": "markdown",
   "metadata": {},
   "source": [
    "### I. Data Preparation \n",
    "\n",
    "The goal of this dataset is to clean the data set we'll use for data visualizations and training the model. \n",
    "    \n",
    "Here's what to expect on this notebook:\n",
    "    - Importing libraries and data\n",
    "    - Fixing data types\n",
    "    - Find number of nulls\n",
    "    - Feature engineering: Creating new columns, aggreagating categories and hot encoding\n",
    "    \n",
    "Finally we save modified data for future data visualizations, and then for creating the predictive model. \n"
   ]
  },
  {
   "cell_type": "markdown",
   "metadata": {},
   "source": [
    "### 1. Import Libraries"
   ]
  },
  {
   "cell_type": "code",
   "execution_count": 1,
   "metadata": {},
   "outputs": [],
   "source": [
    "# import libraries\n",
    "import pandas as pd\n",
    "from sklearn import preprocessing\n",
    "import sklearn.model_selection as ms\n",
    "from sklearn import linear_model\n",
    "import sklearn.metrics as sklm\n",
    "import numpy as np\n",
    "import numpy.random as nr\n",
    "import matplotlib.pyplot as plt\n",
    "import seaborn as sns\n",
    "import scipy.stats as ss\n",
    "import math\n",
    "\n",
    "%matplotlib inline\n",
    "%matplotlib inline"
   ]
  },
  {
   "cell_type": "markdown",
   "metadata": {},
   "source": [
    "### 2. Import datasets and merge"
   ]
  },
  {
   "cell_type": "code",
   "execution_count": 2,
   "metadata": {},
   "outputs": [
    {
     "data": {
      "text/plain": [
       "(3198, 34)"
      ]
     },
     "execution_count": 2,
     "metadata": {},
     "output_type": "execute_result"
    }
   ],
   "source": [
    "#import train values\n",
    "train=pd.read_csv('train_values.csv')\n",
    "train.shape"
   ]
  },
  {
   "cell_type": "code",
   "execution_count": 3,
   "metadata": {},
   "outputs": [
    {
     "data": {
      "text/plain": [
       "(3198, 2)"
      ]
     },
     "execution_count": 3,
     "metadata": {},
     "output_type": "execute_result"
    }
   ],
   "source": [
    "#import train labels \n",
    "labels=pd.read_csv('train_labels.csv', sep=',')\n",
    "labels.shape"
   ]
  },
  {
   "cell_type": "code",
   "execution_count": 4,
   "metadata": {},
   "outputs": [
    {
     "data": {
      "text/plain": [
       "(3198, 36)"
      ]
     },
     "execution_count": 4,
     "metadata": {},
     "output_type": "execute_result"
    }
   ],
   "source": [
    "# Merge the two datasets\n",
    "df= pd.concat([train,labels],axis=1)\n",
    "df.shape"
   ]
  },
  {
   "cell_type": "markdown",
   "metadata": {},
   "source": [
    "### 3. Remove duplicate columns and rows (if any by column id)"
   ]
  },
  {
   "cell_type": "code",
   "execution_count": 5,
   "metadata": {},
   "outputs": [
    {
     "data": {
      "text/plain": [
       "(3198, 35)"
      ]
     },
     "execution_count": 5,
     "metadata": {},
     "output_type": "execute_result"
    }
   ],
   "source": [
    "# Remove duplicates (id column)\n",
    "#Remove duplicate columns\n",
    "_, i = np.unique(df.columns, return_index=True)\n",
    "df=df.iloc[:, i]\n",
    "df.shape"
   ]
  },
  {
   "cell_type": "code",
   "execution_count": 6,
   "metadata": {},
   "outputs": [
    {
     "name": "stdout",
     "output_type": "stream",
     "text": [
      "(3198, 35)\n",
      "(3198,)\n"
     ]
    }
   ],
   "source": [
    "# Make sure I have no more duplicates\n",
    "#Find out how many duplicates rows I have\n",
    "print(df.shape)\n",
    "print (df.row_id.unique().shape)"
   ]
  },
  {
   "cell_type": "code",
   "execution_count": 7,
   "metadata": {},
   "outputs": [
    {
     "name": "stdout",
     "output_type": "stream",
     "text": [
      "(3198, 35)\n",
      "(3198,)\n"
     ]
    }
   ],
   "source": [
    "# Remove duplicate rows (by id if any)\n",
    "#Drop duplicates (rows)\n",
    "df.drop_duplicates(subset='row_id', keep='first', inplace=True)\n",
    "print(df.shape)\n",
    "print(df.row_id.unique().shape)"
   ]
  },
  {
   "cell_type": "code",
   "execution_count": 8,
   "metadata": {},
   "outputs": [
    {
     "data": {
      "text/html": [
       "<div>\n",
       "<style scoped>\n",
       "    .dataframe tbody tr th:only-of-type {\n",
       "        vertical-align: middle;\n",
       "    }\n",
       "\n",
       "    .dataframe tbody tr th {\n",
       "        vertical-align: top;\n",
       "    }\n",
       "\n",
       "    .dataframe thead th {\n",
       "        text-align: right;\n",
       "    }\n",
       "</style>\n",
       "<table border=\"1\" class=\"dataframe\">\n",
       "  <thead>\n",
       "    <tr style=\"text-align: right;\">\n",
       "      <th></th>\n",
       "      <th>area__rucc</th>\n",
       "      <th>area__urban_influence</th>\n",
       "      <th>demo__birth_rate_per_1k</th>\n",
       "      <th>demo__death_rate_per_1k</th>\n",
       "      <th>demo__pct_adults_bachelors_or_higher</th>\n",
       "      <th>demo__pct_adults_less_than_a_high_school_diploma</th>\n",
       "      <th>demo__pct_adults_with_high_school_diploma</th>\n",
       "      <th>demo__pct_adults_with_some_college</th>\n",
       "      <th>demo__pct_aged_65_years_and_older</th>\n",
       "      <th>demo__pct_american_indian_or_alaskan_native</th>\n",
       "      <th>...</th>\n",
       "      <th>health__pct_adult_smoking</th>\n",
       "      <th>health__pct_diabetes</th>\n",
       "      <th>health__pct_excessive_drinking</th>\n",
       "      <th>health__pct_low_birthweight</th>\n",
       "      <th>health__pct_physical_inacticity</th>\n",
       "      <th>health__pop_per_dentist</th>\n",
       "      <th>health__pop_per_primary_care_physician</th>\n",
       "      <th>heart_disease_mortality_per_100k</th>\n",
       "      <th>row_id</th>\n",
       "      <th>yr</th>\n",
       "    </tr>\n",
       "  </thead>\n",
       "  <tbody>\n",
       "    <tr>\n",
       "      <th>0</th>\n",
       "      <td>Metro - Counties in metro areas of fewer than ...</td>\n",
       "      <td>Small-in a metro area with fewer than 1 millio...</td>\n",
       "      <td>12.0</td>\n",
       "      <td>12.0</td>\n",
       "      <td>0.154382</td>\n",
       "      <td>0.194223</td>\n",
       "      <td>0.424303</td>\n",
       "      <td>0.227092</td>\n",
       "      <td>0.176</td>\n",
       "      <td>0.004</td>\n",
       "      <td>...</td>\n",
       "      <td>0.230</td>\n",
       "      <td>0.131</td>\n",
       "      <td>NaN</td>\n",
       "      <td>0.089</td>\n",
       "      <td>0.332</td>\n",
       "      <td>1650.0</td>\n",
       "      <td>1489.0</td>\n",
       "      <td>312</td>\n",
       "      <td>0</td>\n",
       "      <td>a</td>\n",
       "    </tr>\n",
       "    <tr>\n",
       "      <th>1</th>\n",
       "      <td>Metro - Counties in metro areas of fewer than ...</td>\n",
       "      <td>Small-in a metro area with fewer than 1 millio...</td>\n",
       "      <td>19.0</td>\n",
       "      <td>7.0</td>\n",
       "      <td>0.259372</td>\n",
       "      <td>0.164134</td>\n",
       "      <td>0.234043</td>\n",
       "      <td>0.342452</td>\n",
       "      <td>0.101</td>\n",
       "      <td>0.008</td>\n",
       "      <td>...</td>\n",
       "      <td>0.190</td>\n",
       "      <td>0.090</td>\n",
       "      <td>0.181</td>\n",
       "      <td>0.082</td>\n",
       "      <td>0.265</td>\n",
       "      <td>2010.0</td>\n",
       "      <td>2480.0</td>\n",
       "      <td>257</td>\n",
       "      <td>1</td>\n",
       "      <td>a</td>\n",
       "    </tr>\n",
       "    <tr>\n",
       "      <th>2</th>\n",
       "      <td>Metro - Counties in metro areas of 1 million p...</td>\n",
       "      <td>Large-in a metro area with at least 1 million ...</td>\n",
       "      <td>12.0</td>\n",
       "      <td>6.0</td>\n",
       "      <td>0.417245</td>\n",
       "      <td>0.158573</td>\n",
       "      <td>0.237859</td>\n",
       "      <td>0.186323</td>\n",
       "      <td>0.115</td>\n",
       "      <td>0.013</td>\n",
       "      <td>...</td>\n",
       "      <td>0.156</td>\n",
       "      <td>0.084</td>\n",
       "      <td>0.195</td>\n",
       "      <td>0.098</td>\n",
       "      <td>0.209</td>\n",
       "      <td>629.0</td>\n",
       "      <td>690.0</td>\n",
       "      <td>195</td>\n",
       "      <td>4</td>\n",
       "      <td>b</td>\n",
       "    </tr>\n",
       "    <tr>\n",
       "      <th>3</th>\n",
       "      <td>Nonmetro - Urban population of 2,500 to 19,999...</td>\n",
       "      <td>Noncore adjacent to a small metro with town of...</td>\n",
       "      <td>11.0</td>\n",
       "      <td>12.0</td>\n",
       "      <td>0.162675</td>\n",
       "      <td>0.181637</td>\n",
       "      <td>0.407186</td>\n",
       "      <td>0.248503</td>\n",
       "      <td>0.164</td>\n",
       "      <td>0.007</td>\n",
       "      <td>...</td>\n",
       "      <td>NaN</td>\n",
       "      <td>0.104</td>\n",
       "      <td>NaN</td>\n",
       "      <td>0.058</td>\n",
       "      <td>0.238</td>\n",
       "      <td>1810.0</td>\n",
       "      <td>6630.0</td>\n",
       "      <td>218</td>\n",
       "      <td>5</td>\n",
       "      <td>b</td>\n",
       "    </tr>\n",
       "    <tr>\n",
       "      <th>4</th>\n",
       "      <td>Nonmetro - Urban population of 2,500 to 19,999...</td>\n",
       "      <td>Noncore not adjacent to a metro/micro area and...</td>\n",
       "      <td>14.0</td>\n",
       "      <td>12.0</td>\n",
       "      <td>0.157472</td>\n",
       "      <td>0.122367</td>\n",
       "      <td>0.413240</td>\n",
       "      <td>0.306921</td>\n",
       "      <td>0.171</td>\n",
       "      <td>0.003</td>\n",
       "      <td>...</td>\n",
       "      <td>0.234</td>\n",
       "      <td>0.137</td>\n",
       "      <td>0.194</td>\n",
       "      <td>0.070</td>\n",
       "      <td>0.290</td>\n",
       "      <td>3489.0</td>\n",
       "      <td>2590.0</td>\n",
       "      <td>355</td>\n",
       "      <td>6</td>\n",
       "      <td>a</td>\n",
       "    </tr>\n",
       "  </tbody>\n",
       "</table>\n",
       "<p>5 rows × 35 columns</p>\n",
       "</div>"
      ],
      "text/plain": [
       "                                          area__rucc  \\\n",
       "0  Metro - Counties in metro areas of fewer than ...   \n",
       "1  Metro - Counties in metro areas of fewer than ...   \n",
       "2  Metro - Counties in metro areas of 1 million p...   \n",
       "3  Nonmetro - Urban population of 2,500 to 19,999...   \n",
       "4  Nonmetro - Urban population of 2,500 to 19,999...   \n",
       "\n",
       "                               area__urban_influence  demo__birth_rate_per_1k  \\\n",
       "0  Small-in a metro area with fewer than 1 millio...                     12.0   \n",
       "1  Small-in a metro area with fewer than 1 millio...                     19.0   \n",
       "2  Large-in a metro area with at least 1 million ...                     12.0   \n",
       "3  Noncore adjacent to a small metro with town of...                     11.0   \n",
       "4  Noncore not adjacent to a metro/micro area and...                     14.0   \n",
       "\n",
       "   demo__death_rate_per_1k  demo__pct_adults_bachelors_or_higher  \\\n",
       "0                     12.0                              0.154382   \n",
       "1                      7.0                              0.259372   \n",
       "2                      6.0                              0.417245   \n",
       "3                     12.0                              0.162675   \n",
       "4                     12.0                              0.157472   \n",
       "\n",
       "   demo__pct_adults_less_than_a_high_school_diploma  \\\n",
       "0                                          0.194223   \n",
       "1                                          0.164134   \n",
       "2                                          0.158573   \n",
       "3                                          0.181637   \n",
       "4                                          0.122367   \n",
       "\n",
       "   demo__pct_adults_with_high_school_diploma  \\\n",
       "0                                   0.424303   \n",
       "1                                   0.234043   \n",
       "2                                   0.237859   \n",
       "3                                   0.407186   \n",
       "4                                   0.413240   \n",
       "\n",
       "   demo__pct_adults_with_some_college  demo__pct_aged_65_years_and_older  \\\n",
       "0                            0.227092                              0.176   \n",
       "1                            0.342452                              0.101   \n",
       "2                            0.186323                              0.115   \n",
       "3                            0.248503                              0.164   \n",
       "4                            0.306921                              0.171   \n",
       "\n",
       "   demo__pct_american_indian_or_alaskan_native  ...  \\\n",
       "0                                        0.004  ...   \n",
       "1                                        0.008  ...   \n",
       "2                                        0.013  ...   \n",
       "3                                        0.007  ...   \n",
       "4                                        0.003  ...   \n",
       "\n",
       "   health__pct_adult_smoking  health__pct_diabetes  \\\n",
       "0                      0.230                 0.131   \n",
       "1                      0.190                 0.090   \n",
       "2                      0.156                 0.084   \n",
       "3                        NaN                 0.104   \n",
       "4                      0.234                 0.137   \n",
       "\n",
       "   health__pct_excessive_drinking  health__pct_low_birthweight  \\\n",
       "0                             NaN                        0.089   \n",
       "1                           0.181                        0.082   \n",
       "2                           0.195                        0.098   \n",
       "3                             NaN                        0.058   \n",
       "4                           0.194                        0.070   \n",
       "\n",
       "   health__pct_physical_inacticity  health__pop_per_dentist  \\\n",
       "0                            0.332                   1650.0   \n",
       "1                            0.265                   2010.0   \n",
       "2                            0.209                    629.0   \n",
       "3                            0.238                   1810.0   \n",
       "4                            0.290                   3489.0   \n",
       "\n",
       "  health__pop_per_primary_care_physician  heart_disease_mortality_per_100k  \\\n",
       "0                                 1489.0                               312   \n",
       "1                                 2480.0                               257   \n",
       "2                                  690.0                               195   \n",
       "3                                 6630.0                               218   \n",
       "4                                 2590.0                               355   \n",
       "\n",
       "   row_id  yr  \n",
       "0       0   a  \n",
       "1       1   a  \n",
       "2       4   b  \n",
       "3       5   b  \n",
       "4       6   a  \n",
       "\n",
       "[5 rows x 35 columns]"
      ]
     },
     "execution_count": 8,
     "metadata": {},
     "output_type": "execute_result"
    }
   ],
   "source": [
    "#view data\n",
    "df.head(5)"
   ]
  },
  {
   "cell_type": "markdown",
   "metadata": {},
   "source": [
    "### 3. Data Types and Nulls"
   ]
  },
  {
   "cell_type": "code",
   "execution_count": 9,
   "metadata": {},
   "outputs": [
    {
     "data": {
      "text/plain": [
       "area__rucc                                           object\n",
       "area__urban_influence                                object\n",
       "demo__birth_rate_per_1k                             float64\n",
       "demo__death_rate_per_1k                             float64\n",
       "demo__pct_adults_bachelors_or_higher                float64\n",
       "demo__pct_adults_less_than_a_high_school_diploma    float64\n",
       "demo__pct_adults_with_high_school_diploma           float64\n",
       "demo__pct_adults_with_some_college                  float64\n",
       "demo__pct_aged_65_years_and_older                   float64\n",
       "demo__pct_american_indian_or_alaskan_native         float64\n",
       "demo__pct_asian                                     float64\n",
       "demo__pct_below_18_years_of_age                     float64\n",
       "demo__pct_female                                    float64\n",
       "demo__pct_hispanic                                  float64\n",
       "demo__pct_non_hispanic_african_american             float64\n",
       "demo__pct_non_hispanic_white                        float64\n",
       "econ__economic_typology                              object\n",
       "econ__pct_civilian_labor                            float64\n",
       "econ__pct_unemployment                              float64\n",
       "econ__pct_uninsured_adults                          float64\n",
       "econ__pct_uninsured_children                        float64\n",
       "health__air_pollution_particulate_matter            float64\n",
       "health__homicides_per_100k                          float64\n",
       "health__motor_vehicle_crash_deaths_per_100k         float64\n",
       "health__pct_adult_obesity                           float64\n",
       "health__pct_adult_smoking                           float64\n",
       "health__pct_diabetes                                float64\n",
       "health__pct_excessive_drinking                      float64\n",
       "health__pct_low_birthweight                         float64\n",
       "health__pct_physical_inacticity                     float64\n",
       "health__pop_per_dentist                             float64\n",
       "health__pop_per_primary_care_physician              float64\n",
       "heart_disease_mortality_per_100k                      int64\n",
       "row_id                                                int64\n",
       "yr                                                   object\n",
       "dtype: object"
      ]
     },
     "execution_count": 9,
     "metadata": {},
     "output_type": "execute_result"
    }
   ],
   "source": [
    "#view data types and see if there's anything wrong\n",
    "df.dtypes"
   ]
  },
  {
   "cell_type": "markdown",
   "metadata": {},
   "source": [
    "All datatypes seem to be correct"
   ]
  },
  {
   "cell_type": "code",
   "execution_count": 10,
   "metadata": {},
   "outputs": [
    {
     "data": {
      "text/plain": [
       "area__rucc                                             0\n",
       "area__urban_influence                                  0\n",
       "demo__birth_rate_per_1k                                0\n",
       "demo__death_rate_per_1k                                0\n",
       "demo__pct_adults_bachelors_or_higher                   0\n",
       "demo__pct_adults_less_than_a_high_school_diploma       0\n",
       "demo__pct_adults_with_high_school_diploma              0\n",
       "demo__pct_adults_with_some_college                     0\n",
       "demo__pct_aged_65_years_and_older                      2\n",
       "demo__pct_american_indian_or_alaskan_native            2\n",
       "demo__pct_asian                                        2\n",
       "demo__pct_below_18_years_of_age                        2\n",
       "demo__pct_female                                       2\n",
       "demo__pct_hispanic                                     2\n",
       "demo__pct_non_hispanic_african_american                2\n",
       "demo__pct_non_hispanic_white                           2\n",
       "econ__economic_typology                                0\n",
       "econ__pct_civilian_labor                               0\n",
       "econ__pct_unemployment                                 0\n",
       "econ__pct_uninsured_adults                             2\n",
       "econ__pct_uninsured_children                           2\n",
       "health__air_pollution_particulate_matter              28\n",
       "health__homicides_per_100k                          1967\n",
       "health__motor_vehicle_crash_deaths_per_100k          417\n",
       "health__pct_adult_obesity                              2\n",
       "health__pct_adult_smoking                            464\n",
       "health__pct_diabetes                                   2\n",
       "health__pct_excessive_drinking                       978\n",
       "health__pct_low_birthweight                          182\n",
       "health__pct_physical_inacticity                        2\n",
       "health__pop_per_dentist                              244\n",
       "health__pop_per_primary_care_physician               230\n",
       "heart_disease_mortality_per_100k                       0\n",
       "row_id                                                 0\n",
       "yr                                                     0\n",
       "dtype: int64"
      ]
     },
     "execution_count": 10,
     "metadata": {},
     "output_type": "execute_result"
    }
   ],
   "source": [
    "#see how many nulls we have on data\n",
    "df.isna().sum()"
   ]
  },
  {
   "cell_type": "markdown",
   "metadata": {},
   "source": [
    "I will drop those columns where I simply have too many blanks, as it would be to much inference if trying to replace those values by the mode or any other one.\n",
    "For other columns with blanks, I shall replace the blanks with the mode. "
   ]
  },
  {
   "cell_type": "markdown",
   "metadata": {},
   "source": [
    "### 4. Feature Engineering"
   ]
  },
  {
   "cell_type": "code",
   "execution_count": 11,
   "metadata": {},
   "outputs": [],
   "source": [
    "#drop columns with too many blanks\n",
    "df = df.drop(['health__homicides_per_100k'],axis=1)\n"
   ]
  },
  {
   "cell_type": "code",
   "execution_count": 12,
   "metadata": {},
   "outputs": [],
   "source": [
    "## to handle the problem of too many missing values for the columns I have, I have replaced the missing values with the mode\n",
    "for column in df:\n",
    "    df[column].fillna(df[column].mode()[0], inplace=True)"
   ]
  },
  {
   "cell_type": "code",
   "execution_count": 13,
   "metadata": {},
   "outputs": [
    {
     "data": {
      "text/plain": [
       "area__rucc                                          0\n",
       "area__urban_influence                               0\n",
       "demo__birth_rate_per_1k                             0\n",
       "demo__death_rate_per_1k                             0\n",
       "demo__pct_adults_bachelors_or_higher                0\n",
       "demo__pct_adults_less_than_a_high_school_diploma    0\n",
       "demo__pct_adults_with_high_school_diploma           0\n",
       "demo__pct_adults_with_some_college                  0\n",
       "demo__pct_aged_65_years_and_older                   0\n",
       "demo__pct_american_indian_or_alaskan_native         0\n",
       "demo__pct_asian                                     0\n",
       "demo__pct_below_18_years_of_age                     0\n",
       "demo__pct_female                                    0\n",
       "demo__pct_hispanic                                  0\n",
       "demo__pct_non_hispanic_african_american             0\n",
       "demo__pct_non_hispanic_white                        0\n",
       "econ__economic_typology                             0\n",
       "econ__pct_civilian_labor                            0\n",
       "econ__pct_unemployment                              0\n",
       "econ__pct_uninsured_adults                          0\n",
       "econ__pct_uninsured_children                        0\n",
       "health__air_pollution_particulate_matter            0\n",
       "health__motor_vehicle_crash_deaths_per_100k         0\n",
       "health__pct_adult_obesity                           0\n",
       "health__pct_adult_smoking                           0\n",
       "health__pct_diabetes                                0\n",
       "health__pct_excessive_drinking                      0\n",
       "health__pct_low_birthweight                         0\n",
       "health__pct_physical_inacticity                     0\n",
       "health__pop_per_dentist                             0\n",
       "health__pop_per_primary_care_physician              0\n",
       "heart_disease_mortality_per_100k                    0\n",
       "row_id                                              0\n",
       "yr                                                  0\n",
       "dtype: int64"
      ]
     },
     "execution_count": 13,
     "metadata": {},
     "output_type": "execute_result"
    }
   ],
   "source": [
    "#Verify we have no nulls\n",
    "df.isna().sum()"
   ]
  },
  {
   "cell_type": "code",
   "execution_count": 14,
   "metadata": {},
   "outputs": [],
   "source": [
    "#export data set to main directory to be used in a different jupyter notebook\n",
    "df.to_csv(\"dfvisualizations.csv\", index=False)"
   ]
  },
  {
   "cell_type": "markdown",
   "metadata": {},
   "source": [
    "#### 4.1 Create categorical columns"
   ]
  },
  {
   "cell_type": "markdown",
   "metadata": {},
   "source": [
    "#### 4.1.1 Year"
   ]
  },
  {
   "cell_type": "code",
   "execution_count": 15,
   "metadata": {},
   "outputs": [],
   "source": [
    "# Get dummy varibles for Warranty\n",
    "df = pd.concat([df,pd.get_dummies(df['yr'], prefix='Year:')],axis=1)\n"
   ]
  },
  {
   "cell_type": "code",
   "execution_count": 16,
   "metadata": {},
   "outputs": [],
   "source": [
    "# drop year column \n",
    "df = df.drop(['yr'],axis=1)"
   ]
  },
  {
   "cell_type": "code",
   "execution_count": 17,
   "metadata": {},
   "outputs": [
    {
     "data": {
      "text/plain": [
       "Index(['area__rucc', 'area__urban_influence', 'demo__birth_rate_per_1k',\n",
       "       'demo__death_rate_per_1k', 'demo__pct_adults_bachelors_or_higher',\n",
       "       'demo__pct_adults_less_than_a_high_school_diploma',\n",
       "       'demo__pct_adults_with_high_school_diploma',\n",
       "       'demo__pct_adults_with_some_college',\n",
       "       'demo__pct_aged_65_years_and_older',\n",
       "       'demo__pct_american_indian_or_alaskan_native', 'demo__pct_asian',\n",
       "       'demo__pct_below_18_years_of_age', 'demo__pct_female',\n",
       "       'demo__pct_hispanic', 'demo__pct_non_hispanic_african_american',\n",
       "       'demo__pct_non_hispanic_white', 'econ__economic_typology',\n",
       "       'econ__pct_civilian_labor', 'econ__pct_unemployment',\n",
       "       'econ__pct_uninsured_adults', 'econ__pct_uninsured_children',\n",
       "       'health__air_pollution_particulate_matter',\n",
       "       'health__motor_vehicle_crash_deaths_per_100k',\n",
       "       'health__pct_adult_obesity', 'health__pct_adult_smoking',\n",
       "       'health__pct_diabetes', 'health__pct_excessive_drinking',\n",
       "       'health__pct_low_birthweight', 'health__pct_physical_inacticity',\n",
       "       'health__pop_per_dentist', 'health__pop_per_primary_care_physician',\n",
       "       'heart_disease_mortality_per_100k', 'row_id', 'Year:_a', 'Year:_b'],\n",
       "      dtype='object')"
      ]
     },
     "execution_count": 17,
     "metadata": {},
     "output_type": "execute_result"
    }
   ],
   "source": [
    "# Verify year column is no longer in dataset\n",
    "df.columns"
   ]
  },
  {
   "cell_type": "markdown",
   "metadata": {},
   "source": [
    "#### 4.1.2 Area of urban influence"
   ]
  },
  {
   "cell_type": "code",
   "execution_count": 18,
   "metadata": {},
   "outputs": [
    {
     "data": {
      "text/plain": [
       "Small-in a metro area with fewer than 1 million residents                                             692\n",
       "Large-in a metro area with at least 1 million residents or more                                       436\n",
       "Noncore adjacent to a small metro with town of at least 2,500 residents                               346\n",
       "Micropolitan adjacent to a small metro area                                                           262\n",
       "Micropolitan not adjacent to a metro area                                                             254\n",
       "Noncore not adjacent to a metro/micro area and does not contain a town of at least 2,500 residents    210\n",
       "Noncore adjacent to micro area and does not contain a town of at least 2,500 residents                210\n",
       "Noncore adjacent to micro area and contains a town of 2,500-19,999 residents                          206\n",
       "Noncore adjacent to a small metro and does not contain a town of at least 2,500 residents             176\n",
       "Noncore adjacent to a large metro area                                                                158\n",
       "Micropolitan adjacent to a large metro area                                                           126\n",
       "Noncore not adjacent to a metro/micro area and contains a town of 2,500  or more residents            122\n",
       "Name: area__urban_influence, dtype: int64"
      ]
     },
     "execution_count": 18,
     "metadata": {},
     "output_type": "execute_result"
    }
   ],
   "source": [
    "#View Categories\n",
    "df['area__urban_influence'].value_counts()"
   ]
  },
  {
   "cell_type": "code",
   "execution_count": 19,
   "metadata": {},
   "outputs": [
    {
     "data": {
      "text/plain": [
       "NonCore    1270\n",
       "small       692\n",
       "Micro       642\n",
       "Large       436\n",
       "Noncore     158\n",
       "Name: area__urban_influence, dtype: int64"
      ]
     },
     "execution_count": 19,
     "metadata": {},
     "output_type": "execute_result"
    }
   ],
   "source": [
    "#Aggregate categories\n",
    "area__urban_influence_cat = {'Small-in a metro area with fewer than 1 million residents':'small', \n",
    "                        'Large-in a metro area with at least 1 million residents or more':'Large',\n",
    "                        'Micropolitan adjacent to a small metro area':'Micro',     \n",
    "                        'Noncore adjacent to a small metro with town of at least 2,500 residents':'NonCore',\n",
    "                        'Micropolitan not adjacent to a metro area':'Micro',                     \n",
    "                        'Micropolitan adjacent to a large metro area':'Micro',\n",
    "                        'Noncore adjacent to micro area and contains a town of 2,500-19,999 residents':'NonCore',                               \n",
    "                        'Noncore not adjacent to a metro/micro area and contains a town of 2,500  or more residents':'NonCore',\n",
    "                        'Noncore adjacent to a large metro area':'Noncore',\n",
    "                        'Noncore adjacent to a small metro and does not contain a town of at least 2,500 residents':'NonCore',\n",
    "                        'Noncore adjacent to micro area and does not contain a town of at least 2,500 residents':'NonCore',\n",
    "                        'Noncore not adjacent to a metro/micro area and does not contain a town of at least 2,500 residents':'NonCore'}\n",
    "\n",
    "df['area__urban_influence']=[area__urban_influence_cat[x] for x in df['area__urban_influence']]\n",
    "df['area__urban_influence'].value_counts()"
   ]
  },
  {
   "cell_type": "code",
   "execution_count": 20,
   "metadata": {},
   "outputs": [],
   "source": [
    "#Turn Area of Urban influence into dummies\n",
    "df = pd.concat([df,pd.get_dummies(df['area__urban_influence'], prefix='Urban_influence:')],axis=1)"
   ]
  },
  {
   "cell_type": "code",
   "execution_count": 21,
   "metadata": {},
   "outputs": [
    {
     "data": {
      "text/plain": [
       "Index(['area__rucc', 'area__urban_influence', 'demo__birth_rate_per_1k',\n",
       "       'demo__death_rate_per_1k', 'demo__pct_adults_bachelors_or_higher',\n",
       "       'demo__pct_adults_less_than_a_high_school_diploma',\n",
       "       'demo__pct_adults_with_high_school_diploma',\n",
       "       'demo__pct_adults_with_some_college',\n",
       "       'demo__pct_aged_65_years_and_older',\n",
       "       'demo__pct_american_indian_or_alaskan_native', 'demo__pct_asian',\n",
       "       'demo__pct_below_18_years_of_age', 'demo__pct_female',\n",
       "       'demo__pct_hispanic', 'demo__pct_non_hispanic_african_american',\n",
       "       'demo__pct_non_hispanic_white', 'econ__economic_typology',\n",
       "       'econ__pct_civilian_labor', 'econ__pct_unemployment',\n",
       "       'econ__pct_uninsured_adults', 'econ__pct_uninsured_children',\n",
       "       'health__air_pollution_particulate_matter',\n",
       "       'health__motor_vehicle_crash_deaths_per_100k',\n",
       "       'health__pct_adult_obesity', 'health__pct_adult_smoking',\n",
       "       'health__pct_diabetes', 'health__pct_excessive_drinking',\n",
       "       'health__pct_low_birthweight', 'health__pct_physical_inacticity',\n",
       "       'health__pop_per_dentist', 'health__pop_per_primary_care_physician',\n",
       "       'heart_disease_mortality_per_100k', 'row_id', 'Year:_a', 'Year:_b',\n",
       "       'Urban_influence:_Large', 'Urban_influence:_Micro',\n",
       "       'Urban_influence:_NonCore', 'Urban_influence:_Noncore',\n",
       "       'Urban_influence:_small'],\n",
       "      dtype='object')"
      ]
     },
     "execution_count": 21,
     "metadata": {},
     "output_type": "execute_result"
    }
   ],
   "source": [
    "# Verify 'area_urban_influence' column is no longer in dataset\n",
    "df.columns"
   ]
  },
  {
   "cell_type": "markdown",
   "metadata": {},
   "source": [
    "#### 4.1.3 Economic_typology"
   ]
  },
  {
   "cell_type": "code",
   "execution_count": 22,
   "metadata": {},
   "outputs": [
    {
     "data": {
      "text/plain": [
       "Nonspecialized                        1266\n",
       "Manufacturing-dependent                494\n",
       "Farm-dependent                         482\n",
       "Federal/State government-dependent     390\n",
       "Recreation                             312\n",
       "Mining-dependent                       254\n",
       "Name: econ__economic_typology, dtype: int64"
      ]
     },
     "execution_count": 22,
     "metadata": {},
     "output_type": "execute_result"
    }
   ],
   "source": [
    "#Economic typology\n",
    "df['econ__economic_typology'].value_counts()\n"
   ]
  },
  {
   "cell_type": "code",
   "execution_count": 23,
   "metadata": {},
   "outputs": [
    {
     "data": {
      "text/plain": [
       "Nonspecialized                        1266\n",
       "Mining_farming                         736\n",
       "Manufacturing-dependent                494\n",
       "Federal/State government-dependent     390\n",
       "Recreation                             312\n",
       "Name: econ__economic_typology, dtype: int64"
      ]
     },
     "execution_count": 23,
     "metadata": {},
     "output_type": "execute_result"
    }
   ],
   "source": [
    "# I keep the values as they are, I simply turn them into categorical\n",
    "econ__economic_typology_cat = {'Nonspecialized':'Nonspecialized', \n",
    "                             'Federal/State government-dependent':'Federal/State government-dependent',\n",
    "                             'Manufacturing-dependent':'Manufacturing-dependent',\n",
    "                             'Recreation':'Recreation',                     \n",
    "                             'Mining-dependent':'Mining_farming',\n",
    "                             'Farm-dependent':'Mining_farming',                               \n",
    "                            }\n",
    "df['econ__economic_typology']=[econ__economic_typology_cat[x] for x in df['econ__economic_typology']]\n",
    "df['econ__economic_typology'].value_counts()"
   ]
  },
  {
   "cell_type": "code",
   "execution_count": 24,
   "metadata": {},
   "outputs": [],
   "source": [
    "# Now create dummies and drop original column\n",
    "df = pd.concat([df,pd.get_dummies(df['econ__economic_typology'], prefix='Economic_typo:')],axis=1)"
   ]
  },
  {
   "cell_type": "code",
   "execution_count": 25,
   "metadata": {},
   "outputs": [
    {
     "data": {
      "text/plain": [
       "Index(['area__rucc', 'area__urban_influence', 'demo__birth_rate_per_1k',\n",
       "       'demo__death_rate_per_1k', 'demo__pct_adults_bachelors_or_higher',\n",
       "       'demo__pct_adults_less_than_a_high_school_diploma',\n",
       "       'demo__pct_adults_with_high_school_diploma',\n",
       "       'demo__pct_adults_with_some_college',\n",
       "       'demo__pct_aged_65_years_and_older',\n",
       "       'demo__pct_american_indian_or_alaskan_native', 'demo__pct_asian',\n",
       "       'demo__pct_below_18_years_of_age', 'demo__pct_female',\n",
       "       'demo__pct_hispanic', 'demo__pct_non_hispanic_african_american',\n",
       "       'demo__pct_non_hispanic_white', 'econ__economic_typology',\n",
       "       'econ__pct_civilian_labor', 'econ__pct_unemployment',\n",
       "       'econ__pct_uninsured_adults', 'econ__pct_uninsured_children',\n",
       "       'health__air_pollution_particulate_matter',\n",
       "       'health__motor_vehicle_crash_deaths_per_100k',\n",
       "       'health__pct_adult_obesity', 'health__pct_adult_smoking',\n",
       "       'health__pct_diabetes', 'health__pct_excessive_drinking',\n",
       "       'health__pct_low_birthweight', 'health__pct_physical_inacticity',\n",
       "       'health__pop_per_dentist', 'health__pop_per_primary_care_physician',\n",
       "       'heart_disease_mortality_per_100k', 'row_id', 'Year:_a', 'Year:_b',\n",
       "       'Urban_influence:_Large', 'Urban_influence:_Micro',\n",
       "       'Urban_influence:_NonCore', 'Urban_influence:_Noncore',\n",
       "       'Urban_influence:_small',\n",
       "       'Economic_typo:_Federal/State government-dependent',\n",
       "       'Economic_typo:_Manufacturing-dependent',\n",
       "       'Economic_typo:_Mining_farming', 'Economic_typo:_Nonspecialized',\n",
       "       'Economic_typo:_Recreation'],\n",
       "      dtype='object')"
      ]
     },
     "execution_count": 25,
     "metadata": {},
     "output_type": "execute_result"
    }
   ],
   "source": [
    "#Make sure 'econ__economic_typology' is no longer in dataset\n",
    "df.columns"
   ]
  },
  {
   "cell_type": "markdown",
   "metadata": {},
   "source": [
    "#### 4.1.4 Area of rural influence"
   ]
  },
  {
   "cell_type": "code",
   "execution_count": 26,
   "metadata": {},
   "outputs": [
    {
     "data": {
      "text/plain": [
       "Nonmetro - Urban population of 2,500 to 19,999, adjacent to a metro area                         608\n",
       "Nonmetro - Completely rural or less than 2,500 urban population, not adjacent to a metro area    484\n",
       "Metro - Counties in metro areas of 1 million population or more                                  436\n",
       "Nonmetro - Urban population of 2,500 to 19,999, not adjacent to a metro area                     418\n",
       "Metro - Counties in metro areas of 250,000 to 1 million population                               370\n",
       "Metro - Counties in metro areas of fewer than 250,000 population                                 322\n",
       "Nonmetro - Completely rural or less than 2,500 urban population, adjacent to a metro area        238\n",
       "Nonmetro - Urban population of 20,000 or more, adjacent to a metro area                          222\n",
       "Nonmetro - Urban population of 20,000 or more, not adjacent to a metro area                      100\n",
       "Name: area__rucc, dtype: int64"
      ]
     },
     "execution_count": 26,
     "metadata": {},
     "output_type": "execute_result"
    }
   ],
   "source": [
    "df['area__rucc'].value_counts()"
   ]
  },
  {
   "cell_type": "code",
   "execution_count": 27,
   "metadata": {},
   "outputs": [
    {
     "data": {
      "text/plain": [
       "NonMetro    2070\n",
       "Metro       1128\n",
       "Name: area__rucc, dtype: int64"
      ]
     },
     "execution_count": 27,
     "metadata": {},
     "output_type": "execute_result"
    }
   ],
   "source": [
    "# Agregate categories\n",
    "area__rucc_cat = {'Nonmetro - Urban population of 2,500 to 19,999, adjacent to a metro area':'NonMetro', \n",
    "                'Nonmetro - Completely rural or less than 2,500 urban population, not adjacent to a metro area':'NonMetro',\n",
    "                'Nonmetro - Urban population of 2,500 to 19,999, not adjacent to a metro area':'NonMetro',\n",
    "                'Nonmetro - Completely rural or less than 2,500 urban population, adjacent to a metro area':'NonMetro',                     \n",
    "                'Nonmetro - Urban population of 20,000 or more, adjacent to a metro area':'NonMetro',\n",
    "                'Nonmetro - Urban population of 20,000 or more, not adjacent to a metro area':'NonMetro',                               \n",
    "                'Metro - Counties in metro areas of 1 million population or more':'Metro',\n",
    "                'Metro - Counties in metro areas of 250,000 to 1 million population':'Metro',\n",
    "                'Metro - Counties in metro areas of fewer than 250,000 population':'Metro'}\n",
    "df['area__rucc']=[area__rucc_cat[x] for x in df['area__rucc']]\n",
    "df['area__rucc'].value_counts()"
   ]
  },
  {
   "cell_type": "code",
   "execution_count": 28,
   "metadata": {},
   "outputs": [],
   "source": [
    "#turn it into dummies and drop original column\n",
    "df = pd.concat([df,pd.get_dummies(df['area__rucc'], prefix='Area_rucc:')],axis=1)"
   ]
  },
  {
   "cell_type": "markdown",
   "metadata": {},
   "source": [
    "#### 4.2 Check column 'demo__pct_aged_65_years_and_older'"
   ]
  },
  {
   "cell_type": "code",
   "execution_count": 29,
   "metadata": {},
   "outputs": [
    {
     "data": {
      "text/plain": [
       "0.158    47\n",
       "0.176    41\n",
       "0.139    40\n",
       "0.171    38\n",
       "0.163    38\n",
       "0.160    37\n",
       "0.168    36\n",
       "0.164    36\n",
       "0.178    35\n",
       "0.172    35\n",
       "0.146    35\n",
       "0.174    34\n",
       "0.156    34\n",
       "0.170    34\n",
       "0.167    33\n",
       "0.186    33\n",
       "0.153    33\n",
       "0.150    33\n",
       "0.144    32\n",
       "0.173    32\n",
       "0.187    32\n",
       "0.152    32\n",
       "0.169    31\n",
       "0.161    31\n",
       "0.155    31\n",
       "0.179    30\n",
       "0.193    30\n",
       "0.140    30\n",
       "0.180    30\n",
       "0.190    30\n",
       "         ..\n",
       "0.321     1\n",
       "0.328     1\n",
       "0.077     1\n",
       "0.066     1\n",
       "0.284     1\n",
       "0.315     1\n",
       "0.336     1\n",
       "0.048     1\n",
       "0.259     1\n",
       "0.339     1\n",
       "0.065     1\n",
       "0.346     1\n",
       "0.069     1\n",
       "0.307     1\n",
       "0.072     1\n",
       "0.045     1\n",
       "0.311     1\n",
       "0.057     1\n",
       "0.047     1\n",
       "0.056     1\n",
       "0.271     1\n",
       "0.312     1\n",
       "0.330     1\n",
       "0.305     1\n",
       "0.334     1\n",
       "0.087     1\n",
       "0.067     1\n",
       "0.287     1\n",
       "0.071     1\n",
       "0.283     1\n",
       "Name: demo__pct_aged_65_years_and_older, Length: 249, dtype: int64"
      ]
     },
     "execution_count": 29,
     "metadata": {},
     "output_type": "execute_result"
    }
   ],
   "source": [
    "df['demo__pct_aged_65_years_and_older'].value_counts()\n"
   ]
  },
  {
   "cell_type": "code",
   "execution_count": 30,
   "metadata": {},
   "outputs": [
    {
     "data": {
      "text/plain": [
       "young    2535\n",
       "old       663\n",
       "Name: young_old_pop, dtype: int64"
      ]
     },
     "execution_count": 30,
     "metadata": {},
     "output_type": "execute_result"
    }
   ],
   "source": [
    "#I shall group them with above and below 65\n",
    "def demo__pct_aged_65_years_and_older_xform(al):\n",
    "    if al > 0.2: return 'old'\n",
    "    else: return 'young'\n",
    "\n",
    "df[\"young_old_pop\"] = df['demo__pct_aged_65_years_and_older'].map(demo__pct_aged_65_years_and_older_xform)\n",
    "\n",
    "\n",
    "df['young_old_pop'].value_counts()"
   ]
  },
  {
   "cell_type": "code",
   "execution_count": 31,
   "metadata": {},
   "outputs": [],
   "source": [
    "df = pd.concat([df,pd.get_dummies(df['young_old_pop'], prefix='Age_Group:')],axis=1)"
   ]
  },
  {
   "cell_type": "code",
   "execution_count": 32,
   "metadata": {},
   "outputs": [
    {
     "data": {
      "text/plain": [
       "area__rucc                                            object\n",
       "area__urban_influence                                 object\n",
       "demo__birth_rate_per_1k                              float64\n",
       "demo__death_rate_per_1k                              float64\n",
       "demo__pct_adults_bachelors_or_higher                 float64\n",
       "demo__pct_adults_less_than_a_high_school_diploma     float64\n",
       "demo__pct_adults_with_high_school_diploma            float64\n",
       "demo__pct_adults_with_some_college                   float64\n",
       "demo__pct_aged_65_years_and_older                    float64\n",
       "demo__pct_american_indian_or_alaskan_native          float64\n",
       "demo__pct_asian                                      float64\n",
       "demo__pct_below_18_years_of_age                      float64\n",
       "demo__pct_female                                     float64\n",
       "demo__pct_hispanic                                   float64\n",
       "demo__pct_non_hispanic_african_american              float64\n",
       "demo__pct_non_hispanic_white                         float64\n",
       "econ__economic_typology                               object\n",
       "econ__pct_civilian_labor                             float64\n",
       "econ__pct_unemployment                               float64\n",
       "econ__pct_uninsured_adults                           float64\n",
       "econ__pct_uninsured_children                         float64\n",
       "health__air_pollution_particulate_matter             float64\n",
       "health__motor_vehicle_crash_deaths_per_100k          float64\n",
       "health__pct_adult_obesity                            float64\n",
       "health__pct_adult_smoking                            float64\n",
       "health__pct_diabetes                                 float64\n",
       "health__pct_excessive_drinking                       float64\n",
       "health__pct_low_birthweight                          float64\n",
       "health__pct_physical_inacticity                      float64\n",
       "health__pop_per_dentist                              float64\n",
       "health__pop_per_primary_care_physician               float64\n",
       "heart_disease_mortality_per_100k                       int64\n",
       "row_id                                                 int64\n",
       "Year:_a                                                uint8\n",
       "Year:_b                                                uint8\n",
       "Urban_influence:_Large                                 uint8\n",
       "Urban_influence:_Micro                                 uint8\n",
       "Urban_influence:_NonCore                               uint8\n",
       "Urban_influence:_Noncore                               uint8\n",
       "Urban_influence:_small                                 uint8\n",
       "Economic_typo:_Federal/State government-dependent      uint8\n",
       "Economic_typo:_Manufacturing-dependent                 uint8\n",
       "Economic_typo:_Mining_farming                          uint8\n",
       "Economic_typo:_Nonspecialized                          uint8\n",
       "Economic_typo:_Recreation                              uint8\n",
       "Area_rucc:_Metro                                       uint8\n",
       "Area_rucc:_NonMetro                                    uint8\n",
       "young_old_pop                                         object\n",
       "Age_Group:_old                                         uint8\n",
       "Age_Group:_young                                       uint8\n",
       "dtype: object"
      ]
     },
     "execution_count": 32,
     "metadata": {},
     "output_type": "execute_result"
    }
   ],
   "source": [
    "# View columns\n",
    "df.dtypes"
   ]
  },
  {
   "cell_type": "code",
   "execution_count": 33,
   "metadata": {},
   "outputs": [],
   "source": [
    "# Drop useless rows to avoid colinearity (those I used to create new ones)\n",
    "df = df.drop(['row_id'],axis=1)\n",
    "df = df.drop(['young_old_pop'],axis=1)\n",
    "df = df.drop(['demo__pct_aged_65_years_and_older'],axis=1)\n",
    "df = df.drop(['econ__economic_typology'],axis=1)\n",
    "df = df.drop(['area__rucc'],axis=1)\n",
    "df = df.drop(['area__urban_influence'],axis=1)\n"
   ]
  },
  {
   "cell_type": "code",
   "execution_count": 34,
   "metadata": {},
   "outputs": [
    {
     "data": {
      "text/plain": [
       "demo__birth_rate_per_1k                              float64\n",
       "demo__death_rate_per_1k                              float64\n",
       "demo__pct_adults_bachelors_or_higher                 float64\n",
       "demo__pct_adults_less_than_a_high_school_diploma     float64\n",
       "demo__pct_adults_with_high_school_diploma            float64\n",
       "demo__pct_adults_with_some_college                   float64\n",
       "demo__pct_american_indian_or_alaskan_native          float64\n",
       "demo__pct_asian                                      float64\n",
       "demo__pct_below_18_years_of_age                      float64\n",
       "demo__pct_female                                     float64\n",
       "demo__pct_hispanic                                   float64\n",
       "demo__pct_non_hispanic_african_american              float64\n",
       "demo__pct_non_hispanic_white                         float64\n",
       "econ__pct_civilian_labor                             float64\n",
       "econ__pct_unemployment                               float64\n",
       "econ__pct_uninsured_adults                           float64\n",
       "econ__pct_uninsured_children                         float64\n",
       "health__air_pollution_particulate_matter             float64\n",
       "health__motor_vehicle_crash_deaths_per_100k          float64\n",
       "health__pct_adult_obesity                            float64\n",
       "health__pct_adult_smoking                            float64\n",
       "health__pct_diabetes                                 float64\n",
       "health__pct_excessive_drinking                       float64\n",
       "health__pct_low_birthweight                          float64\n",
       "health__pct_physical_inacticity                      float64\n",
       "health__pop_per_dentist                              float64\n",
       "health__pop_per_primary_care_physician               float64\n",
       "heart_disease_mortality_per_100k                       int64\n",
       "Year:_a                                                uint8\n",
       "Year:_b                                                uint8\n",
       "Urban_influence:_Large                                 uint8\n",
       "Urban_influence:_Micro                                 uint8\n",
       "Urban_influence:_NonCore                               uint8\n",
       "Urban_influence:_Noncore                               uint8\n",
       "Urban_influence:_small                                 uint8\n",
       "Economic_typo:_Federal/State government-dependent      uint8\n",
       "Economic_typo:_Manufacturing-dependent                 uint8\n",
       "Economic_typo:_Mining_farming                          uint8\n",
       "Economic_typo:_Nonspecialized                          uint8\n",
       "Economic_typo:_Recreation                              uint8\n",
       "Area_rucc:_Metro                                       uint8\n",
       "Area_rucc:_NonMetro                                    uint8\n",
       "Age_Group:_old                                         uint8\n",
       "Age_Group:_young                                       uint8\n",
       "dtype: object"
      ]
     },
     "execution_count": 34,
     "metadata": {},
     "output_type": "execute_result"
    }
   ],
   "source": [
    "df.dtypes"
   ]
  },
  {
   "cell_type": "code",
   "execution_count": 35,
   "metadata": {},
   "outputs": [
    {
     "data": {
      "text/html": [
       "<div>\n",
       "<style scoped>\n",
       "    .dataframe tbody tr th:only-of-type {\n",
       "        vertical-align: middle;\n",
       "    }\n",
       "\n",
       "    .dataframe tbody tr th {\n",
       "        vertical-align: top;\n",
       "    }\n",
       "\n",
       "    .dataframe thead th {\n",
       "        text-align: right;\n",
       "    }\n",
       "</style>\n",
       "<table border=\"1\" class=\"dataframe\">\n",
       "  <thead>\n",
       "    <tr style=\"text-align: right;\">\n",
       "      <th></th>\n",
       "      <th>demo__birth_rate_per_1k</th>\n",
       "      <th>demo__death_rate_per_1k</th>\n",
       "      <th>demo__pct_adults_bachelors_or_higher</th>\n",
       "      <th>demo__pct_adults_less_than_a_high_school_diploma</th>\n",
       "      <th>demo__pct_adults_with_high_school_diploma</th>\n",
       "      <th>demo__pct_adults_with_some_college</th>\n",
       "      <th>demo__pct_american_indian_or_alaskan_native</th>\n",
       "      <th>demo__pct_asian</th>\n",
       "      <th>demo__pct_below_18_years_of_age</th>\n",
       "      <th>demo__pct_female</th>\n",
       "      <th>...</th>\n",
       "      <th>Economic_typo:_Federal/State government-dependent</th>\n",
       "      <th>Economic_typo:_Manufacturing-dependent</th>\n",
       "      <th>Economic_typo:_Mining_farming</th>\n",
       "      <th>Economic_typo:_Nonspecialized</th>\n",
       "      <th>Economic_typo:_Recreation</th>\n",
       "      <th>Area_rucc:_Metro</th>\n",
       "      <th>Area_rucc:_NonMetro</th>\n",
       "      <th>Age_Group:_old</th>\n",
       "      <th>Age_Group:_young</th>\n",
       "      <th>heart_disease_mortality_per_100k</th>\n",
       "    </tr>\n",
       "  </thead>\n",
       "  <tbody>\n",
       "    <tr>\n",
       "      <th>0</th>\n",
       "      <td>12.0</td>\n",
       "      <td>12.0</td>\n",
       "      <td>0.154382</td>\n",
       "      <td>0.194223</td>\n",
       "      <td>0.424303</td>\n",
       "      <td>0.227092</td>\n",
       "      <td>0.004</td>\n",
       "      <td>0.011</td>\n",
       "      <td>0.235</td>\n",
       "      <td>0.516</td>\n",
       "      <td>...</td>\n",
       "      <td>0</td>\n",
       "      <td>1</td>\n",
       "      <td>0</td>\n",
       "      <td>0</td>\n",
       "      <td>0</td>\n",
       "      <td>1</td>\n",
       "      <td>0</td>\n",
       "      <td>0</td>\n",
       "      <td>1</td>\n",
       "      <td>312</td>\n",
       "    </tr>\n",
       "    <tr>\n",
       "      <th>1</th>\n",
       "      <td>19.0</td>\n",
       "      <td>7.0</td>\n",
       "      <td>0.259372</td>\n",
       "      <td>0.164134</td>\n",
       "      <td>0.234043</td>\n",
       "      <td>0.342452</td>\n",
       "      <td>0.008</td>\n",
       "      <td>0.015</td>\n",
       "      <td>0.272</td>\n",
       "      <td>0.503</td>\n",
       "      <td>...</td>\n",
       "      <td>0</td>\n",
       "      <td>0</td>\n",
       "      <td>1</td>\n",
       "      <td>0</td>\n",
       "      <td>0</td>\n",
       "      <td>1</td>\n",
       "      <td>0</td>\n",
       "      <td>0</td>\n",
       "      <td>1</td>\n",
       "      <td>257</td>\n",
       "    </tr>\n",
       "    <tr>\n",
       "      <th>2</th>\n",
       "      <td>12.0</td>\n",
       "      <td>6.0</td>\n",
       "      <td>0.417245</td>\n",
       "      <td>0.158573</td>\n",
       "      <td>0.237859</td>\n",
       "      <td>0.186323</td>\n",
       "      <td>0.013</td>\n",
       "      <td>0.085</td>\n",
       "      <td>0.179</td>\n",
       "      <td>0.522</td>\n",
       "      <td>...</td>\n",
       "      <td>0</td>\n",
       "      <td>0</td>\n",
       "      <td>0</td>\n",
       "      <td>1</td>\n",
       "      <td>0</td>\n",
       "      <td>1</td>\n",
       "      <td>0</td>\n",
       "      <td>0</td>\n",
       "      <td>1</td>\n",
       "      <td>195</td>\n",
       "    </tr>\n",
       "    <tr>\n",
       "      <th>3</th>\n",
       "      <td>11.0</td>\n",
       "      <td>12.0</td>\n",
       "      <td>0.162675</td>\n",
       "      <td>0.181637</td>\n",
       "      <td>0.407186</td>\n",
       "      <td>0.248503</td>\n",
       "      <td>0.007</td>\n",
       "      <td>0.001</td>\n",
       "      <td>0.200</td>\n",
       "      <td>0.525</td>\n",
       "      <td>...</td>\n",
       "      <td>0</td>\n",
       "      <td>0</td>\n",
       "      <td>0</td>\n",
       "      <td>1</td>\n",
       "      <td>0</td>\n",
       "      <td>0</td>\n",
       "      <td>1</td>\n",
       "      <td>0</td>\n",
       "      <td>1</td>\n",
       "      <td>218</td>\n",
       "    </tr>\n",
       "    <tr>\n",
       "      <th>4</th>\n",
       "      <td>14.0</td>\n",
       "      <td>12.0</td>\n",
       "      <td>0.157472</td>\n",
       "      <td>0.122367</td>\n",
       "      <td>0.413240</td>\n",
       "      <td>0.306921</td>\n",
       "      <td>0.003</td>\n",
       "      <td>0.000</td>\n",
       "      <td>0.237</td>\n",
       "      <td>0.511</td>\n",
       "      <td>...</td>\n",
       "      <td>0</td>\n",
       "      <td>0</td>\n",
       "      <td>0</td>\n",
       "      <td>1</td>\n",
       "      <td>0</td>\n",
       "      <td>0</td>\n",
       "      <td>1</td>\n",
       "      <td>0</td>\n",
       "      <td>1</td>\n",
       "      <td>355</td>\n",
       "    </tr>\n",
       "  </tbody>\n",
       "</table>\n",
       "<p>5 rows × 44 columns</p>\n",
       "</div>"
      ],
      "text/plain": [
       "   demo__birth_rate_per_1k  demo__death_rate_per_1k  \\\n",
       "0                     12.0                     12.0   \n",
       "1                     19.0                      7.0   \n",
       "2                     12.0                      6.0   \n",
       "3                     11.0                     12.0   \n",
       "4                     14.0                     12.0   \n",
       "\n",
       "   demo__pct_adults_bachelors_or_higher  \\\n",
       "0                              0.154382   \n",
       "1                              0.259372   \n",
       "2                              0.417245   \n",
       "3                              0.162675   \n",
       "4                              0.157472   \n",
       "\n",
       "   demo__pct_adults_less_than_a_high_school_diploma  \\\n",
       "0                                          0.194223   \n",
       "1                                          0.164134   \n",
       "2                                          0.158573   \n",
       "3                                          0.181637   \n",
       "4                                          0.122367   \n",
       "\n",
       "   demo__pct_adults_with_high_school_diploma  \\\n",
       "0                                   0.424303   \n",
       "1                                   0.234043   \n",
       "2                                   0.237859   \n",
       "3                                   0.407186   \n",
       "4                                   0.413240   \n",
       "\n",
       "   demo__pct_adults_with_some_college  \\\n",
       "0                            0.227092   \n",
       "1                            0.342452   \n",
       "2                            0.186323   \n",
       "3                            0.248503   \n",
       "4                            0.306921   \n",
       "\n",
       "   demo__pct_american_indian_or_alaskan_native  demo__pct_asian  \\\n",
       "0                                        0.004            0.011   \n",
       "1                                        0.008            0.015   \n",
       "2                                        0.013            0.085   \n",
       "3                                        0.007            0.001   \n",
       "4                                        0.003            0.000   \n",
       "\n",
       "   demo__pct_below_18_years_of_age  demo__pct_female  ...  \\\n",
       "0                            0.235             0.516  ...   \n",
       "1                            0.272             0.503  ...   \n",
       "2                            0.179             0.522  ...   \n",
       "3                            0.200             0.525  ...   \n",
       "4                            0.237             0.511  ...   \n",
       "\n",
       "   Economic_typo:_Federal/State government-dependent  \\\n",
       "0                                                  0   \n",
       "1                                                  0   \n",
       "2                                                  0   \n",
       "3                                                  0   \n",
       "4                                                  0   \n",
       "\n",
       "   Economic_typo:_Manufacturing-dependent  Economic_typo:_Mining_farming  \\\n",
       "0                                       1                              0   \n",
       "1                                       0                              1   \n",
       "2                                       0                              0   \n",
       "3                                       0                              0   \n",
       "4                                       0                              0   \n",
       "\n",
       "   Economic_typo:_Nonspecialized  Economic_typo:_Recreation  Area_rucc:_Metro  \\\n",
       "0                              0                          0                 1   \n",
       "1                              0                          0                 1   \n",
       "2                              1                          0                 1   \n",
       "3                              1                          0                 0   \n",
       "4                              1                          0                 0   \n",
       "\n",
       "   Area_rucc:_NonMetro  Age_Group:_old  Age_Group:_young  \\\n",
       "0                    0               0                 1   \n",
       "1                    0               0                 1   \n",
       "2                    0               0                 1   \n",
       "3                    1               0                 1   \n",
       "4                    1               0                 1   \n",
       "\n",
       "   heart_disease_mortality_per_100k  \n",
       "0                               312  \n",
       "1                               257  \n",
       "2                               195  \n",
       "3                               218  \n",
       "4                               355  \n",
       "\n",
       "[5 rows x 44 columns]"
      ]
     },
     "execution_count": 35,
     "metadata": {},
     "output_type": "execute_result"
    }
   ],
   "source": [
    "#Move LABEL column (attractiveness) to the end of the dataset\n",
    "cols = [col for col in df if col != 'heart_disease_mortality_per_100k']+['heart_disease_mortality_per_100k']\n",
    "df = df[cols]\n",
    "df.head()"
   ]
  },
  {
   "cell_type": "markdown",
   "metadata": {},
   "source": [
    "Now dataset is ready for visualizations and data wrangling"
   ]
  },
  {
   "cell_type": "markdown",
   "metadata": {},
   "source": [
    "### 5. Scale data"
   ]
  },
  {
   "cell_type": "code",
   "execution_count": 36,
   "metadata": {},
   "outputs": [
    {
     "data": {
      "text/plain": [
       "Index(['demo__birth_rate_per_1k', 'demo__death_rate_per_1k',\n",
       "       'demo__pct_adults_bachelors_or_higher',\n",
       "       'demo__pct_adults_less_than_a_high_school_diploma',\n",
       "       'demo__pct_adults_with_high_school_diploma',\n",
       "       'demo__pct_adults_with_some_college',\n",
       "       'demo__pct_american_indian_or_alaskan_native', 'demo__pct_asian',\n",
       "       'demo__pct_below_18_years_of_age', 'demo__pct_female',\n",
       "       'demo__pct_hispanic', 'demo__pct_non_hispanic_african_american',\n",
       "       'demo__pct_non_hispanic_white', 'econ__pct_civilian_labor',\n",
       "       'econ__pct_unemployment', 'econ__pct_uninsured_adults',\n",
       "       'econ__pct_uninsured_children',\n",
       "       'health__air_pollution_particulate_matter',\n",
       "       'health__motor_vehicle_crash_deaths_per_100k',\n",
       "       'health__pct_adult_obesity', 'health__pct_adult_smoking',\n",
       "       'health__pct_diabetes', 'health__pct_excessive_drinking',\n",
       "       'health__pct_low_birthweight', 'health__pct_physical_inacticity',\n",
       "       'health__pop_per_dentist', 'health__pop_per_primary_care_physician',\n",
       "       'Year:_a', 'Year:_b', 'Urban_influence:_Large',\n",
       "       'Urban_influence:_Micro', 'Urban_influence:_NonCore',\n",
       "       'Urban_influence:_Noncore', 'Urban_influence:_small',\n",
       "       'Economic_typo:_Federal/State government-dependent',\n",
       "       'Economic_typo:_Manufacturing-dependent',\n",
       "       'Economic_typo:_Mining_farming', 'Economic_typo:_Nonspecialized',\n",
       "       'Economic_typo:_Recreation', 'Area_rucc:_Metro', 'Area_rucc:_NonMetro',\n",
       "       'Age_Group:_old', 'Age_Group:_young',\n",
       "       'heart_disease_mortality_per_100k'],\n",
       "      dtype='object')"
      ]
     },
     "execution_count": 36,
     "metadata": {},
     "output_type": "execute_result"
    }
   ],
   "source": [
    "# finally, to be able to use this data for modeling, we need to scale it (all except the label)\n",
    "df.columns"
   ]
  },
  {
   "cell_type": "code",
   "execution_count": 37,
   "metadata": {},
   "outputs": [],
   "source": [
    "quant_features = ['demo__birth_rate_per_1k',\n",
    "       'demo__death_rate_per_1k', 'demo__pct_adults_bachelors_or_higher',\n",
    "       'demo__pct_adults_less_than_a_high_school_diploma',\n",
    "       'demo__pct_adults_with_high_school_diploma',\n",
    "       'demo__pct_adults_with_some_college',\n",
    "       'demo__pct_american_indian_or_alaskan_native', 'demo__pct_asian',\n",
    "       'demo__pct_below_18_years_of_age', 'demo__pct_female',\n",
    "       'demo__pct_hispanic', 'demo__pct_non_hispanic_african_american',\n",
    "       'demo__pct_non_hispanic_white',\n",
    "       'econ__pct_civilian_labor', 'econ__pct_unemployment',\n",
    "       'econ__pct_uninsured_adults', 'econ__pct_uninsured_children',\n",
    "       'health__air_pollution_particulate_matter',\n",
    "       'health__motor_vehicle_crash_deaths_per_100k',\n",
    "       'health__pct_adult_obesity', 'health__pct_adult_smoking',\n",
    "       'health__pct_diabetes', 'health__pct_excessive_drinking',\n",
    "       'health__pct_low_birthweight', 'health__pct_physical_inacticity',\n",
    "       'health__pop_per_dentist', 'health__pop_per_primary_care_physician',\n",
    "       'Year:_a', 'Year:_b', 'Urban_influence:_Large',\n",
    "       'Urban_influence:_Micro', 'Urban_influence:_NonCore',\n",
    "       'Urban_influence:_Noncore', 'Urban_influence:_small',\n",
    "       'Economic_typo:_Federal/State government-dependent',\n",
    "       'Economic_typo:_Manufacturing-dependent',\n",
    "       'Economic_typo:_Mining_farming', 'Economic_typo:_Nonspecialized',\n",
    "       'Economic_typo:_Recreation', 'Area_rucc:_Metro', 'Area_rucc:_NonMetro',\n",
    "       'Age_Group:_old', 'Age_Group:_young']\n",
    "\n",
    "# Store scalings in a dictionary so we can convert back later\n",
    "scaled_features = {}\n",
    "for each in quant_features:\n",
    "    mean, std = df[each].mean(), df[each].std()\n",
    "    scaled_features[each] = [mean, std]\n",
    "    df.loc[:, each] = (df[each] - mean)/std"
   ]
  },
  {
   "cell_type": "code",
   "execution_count": 38,
   "metadata": {},
   "outputs": [],
   "source": [
    "### 6. Save model for predictions\n",
    "df.to_csv(\"dfformodeling.csv\", index=False)\n"
   ]
  }
 ],
 "metadata": {
  "kernelspec": {
   "display_name": "Python 3",
   "language": "python",
   "name": "python3"
  },
  "language_info": {
   "codemirror_mode": {
    "name": "ipython",
    "version": 3
   },
   "file_extension": ".py",
   "mimetype": "text/x-python",
   "name": "python",
   "nbconvert_exporter": "python",
   "pygments_lexer": "ipython3",
   "version": "3.6.8"
  }
 },
 "nbformat": 4,
 "nbformat_minor": 2
}
