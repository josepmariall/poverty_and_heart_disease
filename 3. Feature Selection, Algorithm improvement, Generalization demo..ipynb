{
 "cells": [
  {
   "cell_type": "markdown",
   "metadata": {},
   "source": [
    "### III. Feature Selection, Algorithm improvement, Generalization demo.\n",
    "\n",
    "In this part, we create a model, we try different algorithms and see which one delivers the best results. Then we chose the best algorithm and fine tune it. \n",
    "\n",
    "This notebook presents the following parts:\n",
    "\n",
    "    1) Model creation\n",
    "    2) Feature Selection (hybrid method recursive feature elimination)\n",
    "    3) Algorithm testing\n",
    "        - verify reduce dataset gives goods results\n",
    "    4) Improve the model (fine tune hyperparameters)\n",
    "        - verify improved model delivers a better metric\n",
    "    5) Save Model for inference\n",
    "    6) Show evidence the new model will generalize well"
   ]
  },
  {
   "cell_type": "code",
   "execution_count": 1,
   "metadata": {},
   "outputs": [],
   "source": [
    "# import libraries\n",
    "import pandas as pd\n",
    "from sklearn import preprocessing\n",
    "import sklearn.model_selection as ms\n",
    "from sklearn import linear_model\n",
    "import sklearn.metrics as sklm\n",
    "import numpy as np\n",
    "import numpy.random as nr\n",
    "import matplotlib.pyplot as plt\n",
    "import seaborn as sns\n",
    "import scipy.stats as ss\n",
    "import math\n",
    "from sklearn.model_selection import train_test_split \n",
    "from sklearn.linear_model import LinearRegression\n",
    "from sklearn import metrics\n",
    "import xgboost as xgb\n",
    "from sklearn.metrics import roc_auc_score, r2_score\n",
    "\n",
    "from sklearn.ensemble import RandomForestRegressor\n",
    "\n",
    "from sklearn.feature_selection import VarianceThreshold\n",
    "from sklearn.feature_selection import SelectKBest, SelectPercentile\n",
    "\n",
    "from sklearn.tree import DecisionTreeClassifier, DecisionTreeRegressor\n",
    "from sklearn.metrics import roc_auc_score, mean_squared_error\n",
    "from sklearn.feature_selection import f_classif, f_regression\n",
    "from sklearn.metrics import mean_squared_log_error\n",
    "\n",
    "\n",
    "\n",
    "%matplotlib inline\n",
    "%matplotlib inline"
   ]
  },
  {
   "cell_type": "code",
   "execution_count": 2,
   "metadata": {},
   "outputs": [
    {
     "data": {
      "text/plain": [
       "(3198, 44)"
      ]
     },
     "execution_count": 2,
     "metadata": {},
     "output_type": "execute_result"
    }
   ],
   "source": [
    "#import data set\n",
    "df=pd.read_csv('dfformodeling.csv')\n",
    "df.shape"
   ]
  },
  {
   "cell_type": "code",
   "execution_count": 3,
   "metadata": {},
   "outputs": [
    {
     "data": {
      "text/html": [
       "<div>\n",
       "<style scoped>\n",
       "    .dataframe tbody tr th:only-of-type {\n",
       "        vertical-align: middle;\n",
       "    }\n",
       "\n",
       "    .dataframe tbody tr th {\n",
       "        vertical-align: top;\n",
       "    }\n",
       "\n",
       "    .dataframe thead th {\n",
       "        text-align: right;\n",
       "    }\n",
       "</style>\n",
       "<table border=\"1\" class=\"dataframe\">\n",
       "  <thead>\n",
       "    <tr style=\"text-align: right;\">\n",
       "      <th></th>\n",
       "      <th>demo__birth_rate_per_1k</th>\n",
       "      <th>demo__death_rate_per_1k</th>\n",
       "      <th>demo__pct_adults_bachelors_or_higher</th>\n",
       "      <th>demo__pct_adults_less_than_a_high_school_diploma</th>\n",
       "      <th>demo__pct_adults_with_high_school_diploma</th>\n",
       "      <th>demo__pct_adults_with_some_college</th>\n",
       "      <th>demo__pct_american_indian_or_alaskan_native</th>\n",
       "      <th>demo__pct_asian</th>\n",
       "      <th>demo__pct_below_18_years_of_age</th>\n",
       "      <th>demo__pct_female</th>\n",
       "      <th>...</th>\n",
       "      <th>Economic_typo:_Federal/State government-dependent</th>\n",
       "      <th>Economic_typo:_Manufacturing-dependent</th>\n",
       "      <th>Economic_typo:_Mining_farming</th>\n",
       "      <th>Economic_typo:_Nonspecialized</th>\n",
       "      <th>Economic_typo:_Recreation</th>\n",
       "      <th>Area_rucc:_Metro</th>\n",
       "      <th>Area_rucc:_NonMetro</th>\n",
       "      <th>Age_Group:_old</th>\n",
       "      <th>Age_Group:_young</th>\n",
       "      <th>heart_disease_mortality_per_100k</th>\n",
       "    </tr>\n",
       "  </thead>\n",
       "  <tbody>\n",
       "    <tr>\n",
       "      <th>0</th>\n",
       "      <td>0.117909</td>\n",
       "      <td>0.609758</td>\n",
       "      <td>-0.504912</td>\n",
       "      <td>0.665733</td>\n",
       "      <td>1.045102</td>\n",
       "      <td>-1.415408</td>\n",
       "      <td>-0.244441</td>\n",
       "      <td>-0.082609</td>\n",
       "      <td>0.212671</td>\n",
       "      <td>0.704488</td>\n",
       "      <td>...</td>\n",
       "      <td>-0.37262</td>\n",
       "      <td>2.339225</td>\n",
       "      <td>-0.546672</td>\n",
       "      <td>-0.809367</td>\n",
       "      <td>-0.328747</td>\n",
       "      <td>1.354449</td>\n",
       "      <td>-1.354449</td>\n",
       "      <td>-0.511328</td>\n",
       "      <td>0.511328</td>\n",
       "      <td>312</td>\n",
       "    </tr>\n",
       "    <tr>\n",
       "      <th>1</th>\n",
       "      <td>2.673105</td>\n",
       "      <td>-1.184837</td>\n",
       "      <td>0.670671</td>\n",
       "      <td>0.224590</td>\n",
       "      <td>-1.651557</td>\n",
       "      <td>0.789570</td>\n",
       "      <td>-0.197126</td>\n",
       "      <td>0.074713</td>\n",
       "      <td>1.292277</td>\n",
       "      <td>0.171536</td>\n",
       "      <td>...</td>\n",
       "      <td>-0.37262</td>\n",
       "      <td>-0.427358</td>\n",
       "      <td>1.828678</td>\n",
       "      <td>-0.809367</td>\n",
       "      <td>-0.328747</td>\n",
       "      <td>1.354449</td>\n",
       "      <td>-1.354449</td>\n",
       "      <td>-0.511328</td>\n",
       "      <td>0.511328</td>\n",
       "      <td>257</td>\n",
       "    </tr>\n",
       "  </tbody>\n",
       "</table>\n",
       "<p>2 rows × 44 columns</p>\n",
       "</div>"
      ],
      "text/plain": [
       "   demo__birth_rate_per_1k  demo__death_rate_per_1k  \\\n",
       "0                 0.117909                 0.609758   \n",
       "1                 2.673105                -1.184837   \n",
       "\n",
       "   demo__pct_adults_bachelors_or_higher  \\\n",
       "0                             -0.504912   \n",
       "1                              0.670671   \n",
       "\n",
       "   demo__pct_adults_less_than_a_high_school_diploma  \\\n",
       "0                                          0.665733   \n",
       "1                                          0.224590   \n",
       "\n",
       "   demo__pct_adults_with_high_school_diploma  \\\n",
       "0                                   1.045102   \n",
       "1                                  -1.651557   \n",
       "\n",
       "   demo__pct_adults_with_some_college  \\\n",
       "0                           -1.415408   \n",
       "1                            0.789570   \n",
       "\n",
       "   demo__pct_american_indian_or_alaskan_native  demo__pct_asian  \\\n",
       "0                                    -0.244441        -0.082609   \n",
       "1                                    -0.197126         0.074713   \n",
       "\n",
       "   demo__pct_below_18_years_of_age  demo__pct_female  ...  \\\n",
       "0                         0.212671          0.704488  ...   \n",
       "1                         1.292277          0.171536  ...   \n",
       "\n",
       "   Economic_typo:_Federal/State government-dependent  \\\n",
       "0                                           -0.37262   \n",
       "1                                           -0.37262   \n",
       "\n",
       "   Economic_typo:_Manufacturing-dependent  Economic_typo:_Mining_farming  \\\n",
       "0                                2.339225                      -0.546672   \n",
       "1                               -0.427358                       1.828678   \n",
       "\n",
       "   Economic_typo:_Nonspecialized  Economic_typo:_Recreation  Area_rucc:_Metro  \\\n",
       "0                      -0.809367                  -0.328747          1.354449   \n",
       "1                      -0.809367                  -0.328747          1.354449   \n",
       "\n",
       "   Area_rucc:_NonMetro  Age_Group:_old  Age_Group:_young  \\\n",
       "0            -1.354449       -0.511328          0.511328   \n",
       "1            -1.354449       -0.511328          0.511328   \n",
       "\n",
       "   heart_disease_mortality_per_100k  \n",
       "0                               312  \n",
       "1                               257  \n",
       "\n",
       "[2 rows x 44 columns]"
      ]
     },
     "execution_count": 3,
     "metadata": {},
     "output_type": "execute_result"
    }
   ],
   "source": [
    "df.head(2)"
   ]
  },
  {
   "cell_type": "markdown",
   "metadata": {},
   "source": [
    "**1) Model Creation**"
   ]
  },
  {
   "cell_type": "code",
   "execution_count": 4,
   "metadata": {},
   "outputs": [
    {
     "data": {
      "text/plain": [
       "((2238, 43), (960, 43))"
      ]
     },
     "execution_count": 4,
     "metadata": {},
     "output_type": "execute_result"
    }
   ],
   "source": [
    "# separate train and test sets\n",
    "X_train, X_test, y_train, y_test = train_test_split(\n",
    "    df.drop(labels=['heart_disease_mortality_per_100k'], axis=1),\n",
    "    df['heart_disease_mortality_per_100k'],\n",
    "    test_size=0.3,\n",
    "    random_state=0)\n",
    "\n",
    "X_train.shape, X_test.shape\n"
   ]
  },
  {
   "cell_type": "code",
   "execution_count": 5,
   "metadata": {},
   "outputs": [],
   "source": [
    "# I keep a copy of the dataset with all the variables\n",
    "# to measure the performance of machine learning models\n",
    "# at the end of the notebook\n",
    "\n",
    "X_train_original = X_train.copy()\n",
    "X_test_original = X_test.copy()"
   ]
  },
  {
   "cell_type": "markdown",
   "metadata": {},
   "source": [
    "**2) Features Selection (hybrid method:Hybrid recursive feature elimination)**"
   ]
  },
  {
   "cell_type": "markdown",
   "metadata": {},
   "source": [
    "From the previous notebook I know the best model is the Random Forest, so I create a hybrid method to select the best features for this algorithm. "
   ]
  },
  {
   "cell_type": "code",
   "execution_count": 6,
   "metadata": {},
   "outputs": [
    {
     "name": "stderr",
     "output_type": "stream",
     "text": [
      "/anaconda3/envs/featsel/lib/python3.6/site-packages/sklearn/ensemble/forest.py:245: FutureWarning: The default value of n_estimators will change from 10 in version 0.20 to 100 in 0.22.\n",
      "  \"10 in version 0.20 to 100 in 0.22.\", FutureWarning)\n"
     ]
    },
    {
     "name": "stdout",
     "output_type": "stream",
     "text": [
      "Test all features rdf R2 = 0.677933\n"
     ]
    }
   ],
   "source": [
    "# the first step of this procedure consists in building\n",
    "# a machine learning algorithm using all the available features\n",
    "# and then determine the importance of the features according\n",
    "# to the algorithm\n",
    "\n",
    "# set the seed for reproducibility\n",
    "seed_val = 1000000000\n",
    "np.random.seed(seed_val)\n",
    "\n",
    "# build initial model using all the features\n",
    "model_all_features = RandomForestRegressor()\n",
    "\n",
    "model_all_features.fit(X_train, y_train)\n",
    "\n",
    "# calculate the roc-auc in the test set\n",
    "y_pred_test = model_all_features.predict(X_test)\n",
    "r2_score_all = r2_score(y_test, y_pred_test)\n",
    "print('Test all features rdf R2 = %f' % (r2_score_all))"
   ]
  },
  {
   "cell_type": "code",
   "execution_count": 7,
   "metadata": {},
   "outputs": [
    {
     "data": {
      "text/plain": [
       "<matplotlib.axes._subplots.AxesSubplot at 0x1a17f0c8d0>"
      ]
     },
     "execution_count": 7,
     "metadata": {},
     "output_type": "execute_result"
    },
    {
     "data": {
      "image/png": "[encoded data removed]",
      "text/plain": [
       "<Figure size 1440x432 with 1 Axes>"
      ]
     },
     "metadata": {
      "needs_background": "light"
     },
     "output_type": "display_data"
    }
   ],
   "source": [
    "# the second step consist of deriving the importance of \n",
    "# each feature and ranking them from the most to the least\n",
    "# important\n",
    "\n",
    "# get feature name and importance\n",
    "features = pd.Series(model_all_features.feature_importances_)\n",
    "features.index = X_train.columns\n",
    "\n",
    "# sort the features by importance\n",
    "features.sort_values(ascending=True, inplace=True)\n",
    "\n",
    "# plot\n",
    "features.plot.bar(figsize=(20,6))"
   ]
  },
  {
   "cell_type": "code",
   "execution_count": 8,
   "metadata": {},
   "outputs": [
    {
     "data": {
      "text/plain": [
       "['Urban_influence:_Large',\n",
       " 'Area_rucc:_Metro',\n",
       " 'Year:_b',\n",
       " 'Urban_influence:_Noncore',\n",
       " 'Year:_a',\n",
       " 'Area_rucc:_NonMetro',\n",
       " 'Economic_typo:_Recreation',\n",
       " 'Urban_influence:_NonCore',\n",
       " 'Urban_influence:_Micro',\n",
       " 'Urban_influence:_small',\n",
       " 'Economic_typo:_Manufacturing-dependent',\n",
       " 'Economic_typo:_Federal/State government-dependent',\n",
       " 'Economic_typo:_Nonspecialized',\n",
       " 'Economic_typo:_Mining_farming',\n",
       " 'Age_Group:_old',\n",
       " 'Age_Group:_young',\n",
       " 'health__air_pollution_particulate_matter',\n",
       " 'demo__pct_asian',\n",
       " 'demo__pct_hispanic',\n",
       " 'econ__pct_unemployment',\n",
       " 'health__pct_excessive_drinking',\n",
       " 'demo__pct_female',\n",
       " 'health__pop_per_dentist',\n",
       " 'econ__pct_uninsured_adults',\n",
       " 'econ__pct_uninsured_children',\n",
       " 'demo__birth_rate_per_1k',\n",
       " 'health__pop_per_primary_care_physician',\n",
       " 'demo__pct_adults_with_some_college',\n",
       " 'demo__pct_adults_with_high_school_diploma',\n",
       " 'demo__pct_american_indian_or_alaskan_native',\n",
       " 'health__pct_adult_smoking',\n",
       " 'demo__pct_below_18_years_of_age',\n",
       " 'demo__pct_non_hispanic_african_american',\n",
       " 'demo__pct_non_hispanic_white',\n",
       " 'health__motor_vehicle_crash_deaths_per_100k',\n",
       " 'health__pct_adult_obesity',\n",
       " 'econ__pct_civilian_labor',\n",
       " 'demo__death_rate_per_1k',\n",
       " 'health__pct_low_birthweight',\n",
       " 'demo__pct_adults_bachelors_or_higher',\n",
       " 'demo__pct_adults_less_than_a_high_school_diploma',\n",
       " 'health__pct_physical_inacticity',\n",
       " 'health__pct_diabetes']"
      ]
     },
     "execution_count": 8,
     "metadata": {},
     "output_type": "execute_result"
    }
   ],
   "source": [
    "# view the list of ordered features\n",
    "features = list(features.index)\n",
    "features"
   ]
  },
  {
   "cell_type": "code",
   "execution_count": 9,
   "metadata": {},
   "outputs": [
    {
     "name": "stdout",
     "output_type": "stream",
     "text": [
      "doing recursive feature elimination\n",
      "\n",
      "testing feature:  Urban_influence:_Large  which is feature  1  out of  43\n"
     ]
    },
    {
     "name": "stderr",
     "output_type": "stream",
     "text": [
      "/anaconda3/envs/featsel/lib/python3.6/site-packages/xgboost/core.py:587: FutureWarning: Series.base is deprecated and will be removed in a future version\n",
      "  if getattr(data, 'base', None) is not None and \\\n"
     ]
    },
    {
     "name": "stdout",
     "output_type": "stream",
     "text": [
      "New Test r2 = 0.7348143258615689\n",
      "All features Test r2 = 0.677933243032782\n",
      "Drop in r2 = -0.0568810828287869\n",
      "remove:  Urban_influence:_Large\n",
      "\n",
      "testing feature:  Area_rucc:_Metro  which is feature  2  out of  43\n"
     ]
    },
    {
     "name": "stderr",
     "output_type": "stream",
     "text": [
      "/anaconda3/envs/featsel/lib/python3.6/site-packages/xgboost/core.py:587: FutureWarning: Series.base is deprecated and will be removed in a future version\n",
      "  if getattr(data, 'base', None) is not None and \\\n"
     ]
    },
    {
     "name": "stdout",
     "output_type": "stream",
     "text": [
      "New Test r2 = 0.7348143258615689\n",
      "All features Test r2 = 0.7348143258615689\n",
      "Drop in r2 = 0.0\n",
      "remove:  Area_rucc:_Metro\n",
      "\n",
      "testing feature:  Year:_b  which is feature  3  out of  43\n"
     ]
    },
    {
     "name": "stderr",
     "output_type": "stream",
     "text": [
      "/anaconda3/envs/featsel/lib/python3.6/site-packages/xgboost/core.py:587: FutureWarning: Series.base is deprecated and will be removed in a future version\n",
      "  if getattr(data, 'base', None) is not None and \\\n"
     ]
    },
    {
     "name": "stdout",
     "output_type": "stream",
     "text": [
      "New Test r2 = 0.7348143258615689\n",
      "All features Test r2 = 0.7348143258615689\n",
      "Drop in r2 = 0.0\n",
      "remove:  Year:_b\n",
      "\n",
      "testing feature:  Urban_influence:_Noncore  which is feature  4  out of  43\n"
     ]
    },
    {
     "name": "stderr",
     "output_type": "stream",
     "text": [
      "/anaconda3/envs/featsel/lib/python3.6/site-packages/xgboost/core.py:587: FutureWarning: Series.base is deprecated and will be removed in a future version\n",
      "  if getattr(data, 'base', None) is not None and \\\n"
     ]
    },
    {
     "name": "stdout",
     "output_type": "stream",
     "text": [
      "New Test r2 = 0.734636733685788\n",
      "All features Test r2 = 0.7348143258615689\n",
      "Drop in r2 = 0.00017759217578094955\n",
      "remove:  Urban_influence:_Noncore\n",
      "\n",
      "testing feature:  Year:_a  which is feature  5  out of  43\n"
     ]
    },
    {
     "name": "stderr",
     "output_type": "stream",
     "text": [
      "/anaconda3/envs/featsel/lib/python3.6/site-packages/xgboost/core.py:587: FutureWarning: Series.base is deprecated and will be removed in a future version\n",
      "  if getattr(data, 'base', None) is not None and \\\n"
     ]
    },
    {
     "name": "stdout",
     "output_type": "stream",
     "text": [
      "New Test r2 = 0.744617863304129\n",
      "All features Test r2 = 0.734636733685788\n",
      "Drop in r2 = -0.009981129618341078\n",
      "remove:  Year:_a\n",
      "\n",
      "testing feature:  Area_rucc:_NonMetro  which is feature  6  out of  43\n"
     ]
    },
    {
     "name": "stderr",
     "output_type": "stream",
     "text": [
      "/anaconda3/envs/featsel/lib/python3.6/site-packages/xgboost/core.py:587: FutureWarning: Series.base is deprecated and will be removed in a future version\n",
      "  if getattr(data, 'base', None) is not None and \\\n"
     ]
    },
    {
     "name": "stdout",
     "output_type": "stream",
     "text": [
      "New Test r2 = 0.7437353293152305\n",
      "All features Test r2 = 0.744617863304129\n",
      "Drop in r2 = 0.0008825339888985928\n",
      "remove:  Area_rucc:_NonMetro\n",
      "\n",
      "testing feature:  Economic_typo:_Recreation  which is feature  7  out of  43\n"
     ]
    },
    {
     "name": "stderr",
     "output_type": "stream",
     "text": [
      "/anaconda3/envs/featsel/lib/python3.6/site-packages/xgboost/core.py:587: FutureWarning: Series.base is deprecated and will be removed in a future version\n",
      "  if getattr(data, 'base', None) is not None and \\\n"
     ]
    },
    {
     "name": "stdout",
     "output_type": "stream",
     "text": [
      "New Test r2 = 0.741727139163737\n",
      "All features Test r2 = 0.7437353293152305\n",
      "Drop in r2 =0.0020081901514934497\n",
      "keep:  Economic_typo:_Recreation\n",
      "\n",
      "testing feature:  Urban_influence:_NonCore  which is feature  8  out of  43\n"
     ]
    },
    {
     "name": "stderr",
     "output_type": "stream",
     "text": [
      "/anaconda3/envs/featsel/lib/python3.6/site-packages/xgboost/core.py:587: FutureWarning: Series.base is deprecated and will be removed in a future version\n",
      "  if getattr(data, 'base', None) is not None and \\\n"
     ]
    },
    {
     "name": "stdout",
     "output_type": "stream",
     "text": [
      "New Test r2 = 0.7400492037976583\n",
      "All features Test r2 = 0.7437353293152305\n",
      "Drop in r2 =0.003686125517572192\n",
      "keep:  Urban_influence:_NonCore\n",
      "\n",
      "testing feature:  Urban_influence:_Micro  which is feature  9  out of  43\n"
     ]
    },
    {
     "name": "stderr",
     "output_type": "stream",
     "text": [
      "/anaconda3/envs/featsel/lib/python3.6/site-packages/xgboost/core.py:587: FutureWarning: Series.base is deprecated and will be removed in a future version\n",
      "  if getattr(data, 'base', None) is not None and \\\n"
     ]
    },
    {
     "name": "stdout",
     "output_type": "stream",
     "text": [
      "New Test r2 = 0.7446808638500464\n",
      "All features Test r2 = 0.7437353293152305\n",
      "Drop in r2 = -0.0009455345348159394\n",
      "remove:  Urban_influence:_Micro\n",
      "\n",
      "testing feature:  Urban_influence:_small  which is feature  10  out of  43\n"
     ]
    },
    {
     "name": "stderr",
     "output_type": "stream",
     "text": [
      "/anaconda3/envs/featsel/lib/python3.6/site-packages/xgboost/core.py:587: FutureWarning: Series.base is deprecated and will be removed in a future version\n",
      "  if getattr(data, 'base', None) is not None and \\\n"
     ]
    },
    {
     "name": "stdout",
     "output_type": "stream",
     "text": [
      "New Test r2 = 0.7406986698733042\n",
      "All features Test r2 = 0.7446808638500464\n",
      "Drop in r2 =0.003982193976742154\n",
      "keep:  Urban_influence:_small\n",
      "\n",
      "testing feature:  Economic_typo:_Manufacturing-dependent  which is feature  11  out of  43\n"
     ]
    },
    {
     "name": "stderr",
     "output_type": "stream",
     "text": [
      "/anaconda3/envs/featsel/lib/python3.6/site-packages/xgboost/core.py:587: FutureWarning: Series.base is deprecated and will be removed in a future version\n",
      "  if getattr(data, 'base', None) is not None and \\\n"
     ]
    },
    {
     "name": "stdout",
     "output_type": "stream",
     "text": [
      "New Test r2 = 0.7346077751837558\n",
      "All features Test r2 = 0.7446808638500464\n",
      "Drop in r2 =0.010073088666290642\n",
      "keep:  Economic_typo:_Manufacturing-dependent\n",
      "\n",
      "testing feature:  Economic_typo:_Federal/State government-dependent  which is feature  12  out of  43\n"
     ]
    },
    {
     "name": "stderr",
     "output_type": "stream",
     "text": [
      "/anaconda3/envs/featsel/lib/python3.6/site-packages/xgboost/core.py:587: FutureWarning: Series.base is deprecated and will be removed in a future version\n",
      "  if getattr(data, 'base', None) is not None and \\\n"
     ]
    },
    {
     "name": "stdout",
     "output_type": "stream",
     "text": [
      "New Test r2 = 0.7394846375155887\n",
      "All features Test r2 = 0.7446808638500464\n",
      "Drop in r2 =0.00519622633445771\n",
      "keep:  Economic_typo:_Federal/State government-dependent\n",
      "\n",
      "testing feature:  Economic_typo:_Nonspecialized  which is feature  13  out of  43\n"
     ]
    },
    {
     "name": "stderr",
     "output_type": "stream",
     "text": [
      "/anaconda3/envs/featsel/lib/python3.6/site-packages/xgboost/core.py:587: FutureWarning: Series.base is deprecated and will be removed in a future version\n",
      "  if getattr(data, 'base', None) is not None and \\\n"
     ]
    },
    {
     "name": "stdout",
     "output_type": "stream",
     "text": [
      "New Test r2 = 0.7455455230079897\n",
      "All features Test r2 = 0.7446808638500464\n",
      "Drop in r2 = -0.0008646591579433149\n",
      "remove:  Economic_typo:_Nonspecialized\n",
      "\n",
      "testing feature:  Economic_typo:_Mining_farming  which is feature  14  out of  43\n"
     ]
    },
    {
     "name": "stderr",
     "output_type": "stream",
     "text": [
      "/anaconda3/envs/featsel/lib/python3.6/site-packages/xgboost/core.py:587: FutureWarning: Series.base is deprecated and will be removed in a future version\n",
      "  if getattr(data, 'base', None) is not None and \\\n"
     ]
    },
    {
     "name": "stdout",
     "output_type": "stream",
     "text": [
      "New Test r2 = 0.7412087660744351\n",
      "All features Test r2 = 0.7455455230079897\n",
      "Drop in r2 =0.00433675693355462\n",
      "keep:  Economic_typo:_Mining_farming\n",
      "\n",
      "testing feature:  Age_Group:_old  which is feature  15  out of  43\n"
     ]
    },
    {
     "name": "stderr",
     "output_type": "stream",
     "text": [
      "/anaconda3/envs/featsel/lib/python3.6/site-packages/xgboost/core.py:587: FutureWarning: Series.base is deprecated and will be removed in a future version\n",
      "  if getattr(data, 'base', None) is not None and \\\n"
     ]
    },
    {
     "name": "stdout",
     "output_type": "stream",
     "text": [
      "New Test r2 = 0.7455455230079897\n",
      "All features Test r2 = 0.7455455230079897\n",
      "Drop in r2 = 0.0\n",
      "remove:  Age_Group:_old\n",
      "\n",
      "testing feature:  Age_Group:_young  which is feature  16  out of  43\n"
     ]
    },
    {
     "name": "stderr",
     "output_type": "stream",
     "text": [
      "/anaconda3/envs/featsel/lib/python3.6/site-packages/xgboost/core.py:587: FutureWarning: Series.base is deprecated and will be removed in a future version\n",
      "  if getattr(data, 'base', None) is not None and \\\n"
     ]
    },
    {
     "name": "stdout",
     "output_type": "stream",
     "text": [
      "New Test r2 = 0.7382247850815261\n",
      "All features Test r2 = 0.7455455230079897\n",
      "Drop in r2 =0.007320737926463594\n",
      "keep:  Age_Group:_young\n",
      "\n",
      "testing feature:  health__air_pollution_particulate_matter  which is feature  17  out of  43\n"
     ]
    },
    {
     "name": "stderr",
     "output_type": "stream",
     "text": [
      "/anaconda3/envs/featsel/lib/python3.6/site-packages/xgboost/core.py:587: FutureWarning: Series.base is deprecated and will be removed in a future version\n",
      "  if getattr(data, 'base', None) is not None and \\\n"
     ]
    },
    {
     "name": "stdout",
     "output_type": "stream",
     "text": [
      "New Test r2 = 0.7348802962869441\n",
      "All features Test r2 = 0.7455455230079897\n",
      "Drop in r2 =0.01066522672104564\n",
      "keep:  health__air_pollution_particulate_matter\n",
      "\n",
      "testing feature:  demo__pct_asian  which is feature  18  out of  43\n"
     ]
    },
    {
     "name": "stderr",
     "output_type": "stream",
     "text": [
      "/anaconda3/envs/featsel/lib/python3.6/site-packages/xgboost/core.py:587: FutureWarning: Series.base is deprecated and will be removed in a future version\n",
      "  if getattr(data, 'base', None) is not None and \\\n"
     ]
    },
    {
     "name": "stdout",
     "output_type": "stream",
     "text": [
      "New Test r2 = 0.741464449343533\n",
      "All features Test r2 = 0.7455455230079897\n",
      "Drop in r2 =0.004081073664456758\n",
      "keep:  demo__pct_asian\n",
      "\n",
      "testing feature:  demo__pct_hispanic  which is feature  19  out of  43\n"
     ]
    },
    {
     "name": "stderr",
     "output_type": "stream",
     "text": [
      "/anaconda3/envs/featsel/lib/python3.6/site-packages/xgboost/core.py:587: FutureWarning: Series.base is deprecated and will be removed in a future version\n",
      "  if getattr(data, 'base', None) is not None and \\\n"
     ]
    },
    {
     "name": "stdout",
     "output_type": "stream",
     "text": [
      "New Test r2 = 0.7433587425703596\n",
      "All features Test r2 = 0.7455455230079897\n",
      "Drop in r2 =0.002186780437630098\n",
      "keep:  demo__pct_hispanic\n",
      "\n",
      "testing feature:  econ__pct_unemployment  which is feature  20  out of  43\n"
     ]
    },
    {
     "name": "stderr",
     "output_type": "stream",
     "text": [
      "/anaconda3/envs/featsel/lib/python3.6/site-packages/xgboost/core.py:587: FutureWarning: Series.base is deprecated and will be removed in a future version\n",
      "  if getattr(data, 'base', None) is not None and \\\n"
     ]
    },
    {
     "name": "stdout",
     "output_type": "stream",
     "text": [
      "New Test r2 = 0.7459165538130245\n",
      "All features Test r2 = 0.7455455230079897\n",
      "Drop in r2 = -0.0003710308050347555\n",
      "remove:  econ__pct_unemployment\n",
      "\n",
      "testing feature:  health__pct_excessive_drinking  which is feature  21  out of  43\n"
     ]
    },
    {
     "name": "stderr",
     "output_type": "stream",
     "text": [
      "/anaconda3/envs/featsel/lib/python3.6/site-packages/xgboost/core.py:587: FutureWarning: Series.base is deprecated and will be removed in a future version\n",
      "  if getattr(data, 'base', None) is not None and \\\n"
     ]
    },
    {
     "name": "stdout",
     "output_type": "stream",
     "text": [
      "New Test r2 = 0.7349951063211169\n",
      "All features Test r2 = 0.7459165538130245\n",
      "Drop in r2 =0.010921447491907599\n",
      "keep:  health__pct_excessive_drinking\n",
      "\n",
      "testing feature:  demo__pct_female  which is feature  22  out of  43\n"
     ]
    },
    {
     "name": "stderr",
     "output_type": "stream",
     "text": [
      "/anaconda3/envs/featsel/lib/python3.6/site-packages/xgboost/core.py:587: FutureWarning: Series.base is deprecated and will be removed in a future version\n",
      "  if getattr(data, 'base', None) is not None and \\\n"
     ]
    },
    {
     "name": "stdout",
     "output_type": "stream",
     "text": [
      "New Test r2 = 0.7448343270050712\n",
      "All features Test r2 = 0.7459165538130245\n",
      "Drop in r2 =0.0010822268079532238\n",
      "keep:  demo__pct_female\n",
      "\n",
      "testing feature:  health__pop_per_dentist  which is feature  23  out of  43\n"
     ]
    },
    {
     "name": "stderr",
     "output_type": "stream",
     "text": [
      "/anaconda3/envs/featsel/lib/python3.6/site-packages/xgboost/core.py:587: FutureWarning: Series.base is deprecated and will be removed in a future version\n",
      "  if getattr(data, 'base', None) is not None and \\\n"
     ]
    },
    {
     "name": "stdout",
     "output_type": "stream",
     "text": [
      "New Test r2 = 0.7416349428785851\n",
      "All features Test r2 = 0.7459165538130245\n",
      "Drop in r2 =0.0042816109344393505\n",
      "keep:  health__pop_per_dentist\n",
      "\n",
      "testing feature:  econ__pct_uninsured_adults  which is feature  24  out of  43\n"
     ]
    },
    {
     "name": "stderr",
     "output_type": "stream",
     "text": [
      "/anaconda3/envs/featsel/lib/python3.6/site-packages/xgboost/core.py:587: FutureWarning: Series.base is deprecated and will be removed in a future version\n",
      "  if getattr(data, 'base', None) is not None and \\\n"
     ]
    },
    {
     "name": "stdout",
     "output_type": "stream",
     "text": [
      "New Test r2 = 0.7424805489217289\n",
      "All features Test r2 = 0.7459165538130245\n",
      "Drop in r2 =0.0034360048912955854\n",
      "keep:  econ__pct_uninsured_adults\n",
      "\n",
      "testing feature:  econ__pct_uninsured_children  which is feature  25  out of  43\n"
     ]
    },
    {
     "name": "stderr",
     "output_type": "stream",
     "text": [
      "/anaconda3/envs/featsel/lib/python3.6/site-packages/xgboost/core.py:587: FutureWarning: Series.base is deprecated and will be removed in a future version\n",
      "  if getattr(data, 'base', None) is not None and \\\n"
     ]
    },
    {
     "name": "stdout",
     "output_type": "stream",
     "text": [
      "New Test r2 = 0.7325873462926034\n",
      "All features Test r2 = 0.7459165538130245\n",
      "Drop in r2 =0.013329207520421105\n",
      "keep:  econ__pct_uninsured_children\n",
      "\n",
      "testing feature:  demo__birth_rate_per_1k  which is feature  26  out of  43\n"
     ]
    },
    {
     "name": "stderr",
     "output_type": "stream",
     "text": [
      "/anaconda3/envs/featsel/lib/python3.6/site-packages/xgboost/core.py:587: FutureWarning: Series.base is deprecated and will be removed in a future version\n",
      "  if getattr(data, 'base', None) is not None and \\\n"
     ]
    },
    {
     "name": "stdout",
     "output_type": "stream",
     "text": [
      "New Test r2 = 0.7445619742324282\n",
      "All features Test r2 = 0.7459165538130245\n",
      "Drop in r2 =0.0013545795805962602\n",
      "keep:  demo__birth_rate_per_1k\n",
      "\n",
      "testing feature:  health__pop_per_primary_care_physician  which is feature  27  out of  43\n"
     ]
    },
    {
     "name": "stderr",
     "output_type": "stream",
     "text": [
      "/anaconda3/envs/featsel/lib/python3.6/site-packages/xgboost/core.py:587: FutureWarning: Series.base is deprecated and will be removed in a future version\n",
      "  if getattr(data, 'base', None) is not None and \\\n"
     ]
    },
    {
     "name": "stdout",
     "output_type": "stream",
     "text": [
      "New Test r2 = 0.7374305048230794\n",
      "All features Test r2 = 0.7459165538130245\n",
      "Drop in r2 =0.008486048989945094\n",
      "keep:  health__pop_per_primary_care_physician\n",
      "\n",
      "testing feature:  demo__pct_adults_with_some_college  which is feature  28  out of  43\n"
     ]
    },
    {
     "name": "stderr",
     "output_type": "stream",
     "text": [
      "/anaconda3/envs/featsel/lib/python3.6/site-packages/xgboost/core.py:587: FutureWarning: Series.base is deprecated and will be removed in a future version\n",
      "  if getattr(data, 'base', None) is not None and \\\n"
     ]
    },
    {
     "name": "stdout",
     "output_type": "stream",
     "text": [
      "New Test r2 = 0.7399243742386896\n",
      "All features Test r2 = 0.7459165538130245\n",
      "Drop in r2 =0.005992179574334844\n",
      "keep:  demo__pct_adults_with_some_college\n",
      "\n",
      "testing feature:  demo__pct_adults_with_high_school_diploma  which is feature  29  out of  43\n"
     ]
    },
    {
     "name": "stderr",
     "output_type": "stream",
     "text": [
      "/anaconda3/envs/featsel/lib/python3.6/site-packages/xgboost/core.py:587: FutureWarning: Series.base is deprecated and will be removed in a future version\n",
      "  if getattr(data, 'base', None) is not None and \\\n"
     ]
    },
    {
     "name": "stdout",
     "output_type": "stream",
     "text": [
      "New Test r2 = 0.7422481371636348\n",
      "All features Test r2 = 0.7459165538130245\n",
      "Drop in r2 =0.003668416649389661\n",
      "keep:  demo__pct_adults_with_high_school_diploma\n",
      "\n",
      "testing feature:  demo__pct_american_indian_or_alaskan_native  which is feature  30  out of  43\n"
     ]
    },
    {
     "name": "stderr",
     "output_type": "stream",
     "text": [
      "/anaconda3/envs/featsel/lib/python3.6/site-packages/xgboost/core.py:587: FutureWarning: Series.base is deprecated and will be removed in a future version\n",
      "  if getattr(data, 'base', None) is not None and \\\n"
     ]
    },
    {
     "name": "stdout",
     "output_type": "stream",
     "text": [
      "New Test r2 = 0.7392326543890019\n",
      "All features Test r2 = 0.7459165538130245\n",
      "Drop in r2 =0.006683899424022588\n",
      "keep:  demo__pct_american_indian_or_alaskan_native\n",
      "\n",
      "testing feature:  health__pct_adult_smoking  which is feature  31  out of  43\n"
     ]
    },
    {
     "name": "stderr",
     "output_type": "stream",
     "text": [
      "/anaconda3/envs/featsel/lib/python3.6/site-packages/xgboost/core.py:587: FutureWarning: Series.base is deprecated and will be removed in a future version\n",
      "  if getattr(data, 'base', None) is not None and \\\n"
     ]
    },
    {
     "name": "stdout",
     "output_type": "stream",
     "text": [
      "New Test r2 = 0.7332731751937538\n",
      "All features Test r2 = 0.7459165538130245\n",
      "Drop in r2 =0.012643378619270673\n",
      "keep:  health__pct_adult_smoking\n",
      "\n",
      "testing feature:  demo__pct_below_18_years_of_age  which is feature  32  out of  43\n"
     ]
    },
    {
     "name": "stderr",
     "output_type": "stream",
     "text": [
      "/anaconda3/envs/featsel/lib/python3.6/site-packages/xgboost/core.py:587: FutureWarning: Series.base is deprecated and will be removed in a future version\n",
      "  if getattr(data, 'base', None) is not None and \\\n"
     ]
    },
    {
     "name": "stdout",
     "output_type": "stream",
     "text": [
      "New Test r2 = 0.7402971876842697\n",
      "All features Test r2 = 0.7459165538130245\n",
      "Drop in r2 =0.005619366128754799\n",
      "keep:  demo__pct_below_18_years_of_age\n",
      "\n",
      "testing feature:  demo__pct_non_hispanic_african_american  which is feature  33  out of  43\n"
     ]
    },
    {
     "name": "stderr",
     "output_type": "stream",
     "text": [
      "/anaconda3/envs/featsel/lib/python3.6/site-packages/xgboost/core.py:587: FutureWarning: Series.base is deprecated and will be removed in a future version\n",
      "  if getattr(data, 'base', None) is not None and \\\n"
     ]
    },
    {
     "name": "stdout",
     "output_type": "stream",
     "text": [
      "New Test r2 = 0.7383657896503175\n",
      "All features Test r2 = 0.7459165538130245\n",
      "Drop in r2 =0.007550764162706947\n",
      "keep:  demo__pct_non_hispanic_african_american\n",
      "\n",
      "testing feature:  demo__pct_non_hispanic_white  which is feature  34  out of  43\n"
     ]
    },
    {
     "name": "stderr",
     "output_type": "stream",
     "text": [
      "/anaconda3/envs/featsel/lib/python3.6/site-packages/xgboost/core.py:587: FutureWarning: Series.base is deprecated and will be removed in a future version\n",
      "  if getattr(data, 'base', None) is not None and \\\n"
     ]
    },
    {
     "name": "stdout",
     "output_type": "stream",
     "text": [
      "New Test r2 = 0.7400673648105345\n",
      "All features Test r2 = 0.7459165538130245\n",
      "Drop in r2 =0.005849189002489985\n",
      "keep:  demo__pct_non_hispanic_white\n",
      "\n",
      "testing feature:  health__motor_vehicle_crash_deaths_per_100k  which is feature  35  out of  43\n"
     ]
    },
    {
     "name": "stderr",
     "output_type": "stream",
     "text": [
      "/anaconda3/envs/featsel/lib/python3.6/site-packages/xgboost/core.py:587: FutureWarning: Series.base is deprecated and will be removed in a future version\n",
      "  if getattr(data, 'base', None) is not None and \\\n"
     ]
    },
    {
     "name": "stdout",
     "output_type": "stream",
     "text": [
      "New Test r2 = 0.7254492101449155\n",
      "All features Test r2 = 0.7459165538130245\n",
      "Drop in r2 =0.020467343668108984\n",
      "keep:  health__motor_vehicle_crash_deaths_per_100k\n",
      "\n",
      "testing feature:  health__pct_adult_obesity  which is feature  36  out of  43\n"
     ]
    },
    {
     "name": "stderr",
     "output_type": "stream",
     "text": [
      "/anaconda3/envs/featsel/lib/python3.6/site-packages/xgboost/core.py:587: FutureWarning: Series.base is deprecated and will be removed in a future version\n",
      "  if getattr(data, 'base', None) is not None and \\\n"
     ]
    },
    {
     "name": "stdout",
     "output_type": "stream",
     "text": [
      "New Test r2 = 0.736051301640197\n",
      "All features Test r2 = 0.7459165538130245\n",
      "Drop in r2 =0.00986525217282741\n",
      "keep:  health__pct_adult_obesity\n",
      "\n",
      "testing feature:  econ__pct_civilian_labor  which is feature  37  out of  43\n"
     ]
    },
    {
     "name": "stderr",
     "output_type": "stream",
     "text": [
      "/anaconda3/envs/featsel/lib/python3.6/site-packages/xgboost/core.py:587: FutureWarning: Series.base is deprecated and will be removed in a future version\n",
      "  if getattr(data, 'base', None) is not None and \\\n"
     ]
    },
    {
     "name": "stdout",
     "output_type": "stream",
     "text": [
      "New Test r2 = 0.7442298557588043\n",
      "All features Test r2 = 0.7459165538130245\n",
      "Drop in r2 =0.0016866980542201704\n",
      "keep:  econ__pct_civilian_labor\n",
      "\n",
      "testing feature:  demo__death_rate_per_1k  which is feature  38  out of  43\n"
     ]
    },
    {
     "name": "stderr",
     "output_type": "stream",
     "text": [
      "/anaconda3/envs/featsel/lib/python3.6/site-packages/xgboost/core.py:587: FutureWarning: Series.base is deprecated and will be removed in a future version\n",
      "  if getattr(data, 'base', None) is not None and \\\n"
     ]
    },
    {
     "name": "stdout",
     "output_type": "stream",
     "text": [
      "New Test r2 = 0.7364858679501749\n",
      "All features Test r2 = 0.7459165538130245\n",
      "Drop in r2 =0.009430685862849564\n",
      "keep:  demo__death_rate_per_1k\n",
      "\n",
      "testing feature:  health__pct_low_birthweight  which is feature  39  out of  43\n"
     ]
    },
    {
     "name": "stderr",
     "output_type": "stream",
     "text": [
      "/anaconda3/envs/featsel/lib/python3.6/site-packages/xgboost/core.py:587: FutureWarning: Series.base is deprecated and will be removed in a future version\n",
      "  if getattr(data, 'base', None) is not None and \\\n"
     ]
    },
    {
     "name": "stdout",
     "output_type": "stream",
     "text": [
      "New Test r2 = 0.7471659562994355\n",
      "All features Test r2 = 0.7459165538130245\n",
      "Drop in r2 = -0.0012494024864110331\n",
      "remove:  health__pct_low_birthweight\n",
      "\n",
      "testing feature:  demo__pct_adults_bachelors_or_higher  which is feature  40  out of  43\n"
     ]
    },
    {
     "name": "stderr",
     "output_type": "stream",
     "text": [
      "/anaconda3/envs/featsel/lib/python3.6/site-packages/xgboost/core.py:587: FutureWarning: Series.base is deprecated and will be removed in a future version\n",
      "  if getattr(data, 'base', None) is not None and \\\n"
     ]
    },
    {
     "name": "stdout",
     "output_type": "stream",
     "text": [
      "New Test r2 = 0.7397057401078693\n",
      "All features Test r2 = 0.7471659562994355\n",
      "Drop in r2 =0.007460216191566227\n",
      "keep:  demo__pct_adults_bachelors_or_higher\n",
      "\n",
      "testing feature:  demo__pct_adults_less_than_a_high_school_diploma  which is feature  41  out of  43\n"
     ]
    },
    {
     "name": "stderr",
     "output_type": "stream",
     "text": [
      "/anaconda3/envs/featsel/lib/python3.6/site-packages/xgboost/core.py:587: FutureWarning: Series.base is deprecated and will be removed in a future version\n",
      "  if getattr(data, 'base', None) is not None and \\\n"
     ]
    },
    {
     "name": "stdout",
     "output_type": "stream",
     "text": [
      "New Test r2 = 0.7268345994059566\n",
      "All features Test r2 = 0.7471659562994355\n",
      "Drop in r2 =0.02033135689347887\n",
      "keep:  demo__pct_adults_less_than_a_high_school_diploma\n",
      "\n",
      "testing feature:  health__pct_physical_inacticity  which is feature  42  out of  43\n"
     ]
    },
    {
     "name": "stderr",
     "output_type": "stream",
     "text": [
      "/anaconda3/envs/featsel/lib/python3.6/site-packages/xgboost/core.py:587: FutureWarning: Series.base is deprecated and will be removed in a future version\n",
      "  if getattr(data, 'base', None) is not None and \\\n"
     ]
    },
    {
     "name": "stdout",
     "output_type": "stream",
     "text": [
      "New Test r2 = 0.7343874097296512\n",
      "All features Test r2 = 0.7471659562994355\n",
      "Drop in r2 =0.012778546569784277\n",
      "keep:  health__pct_physical_inacticity\n",
      "\n",
      "testing feature:  health__pct_diabetes  which is feature  43  out of  43\n"
     ]
    },
    {
     "name": "stderr",
     "output_type": "stream",
     "text": [
      "/anaconda3/envs/featsel/lib/python3.6/site-packages/xgboost/core.py:587: FutureWarning: Series.base is deprecated and will be removed in a future version\n",
      "  if getattr(data, 'base', None) is not None and \\\n"
     ]
    },
    {
     "name": "stdout",
     "output_type": "stream",
     "text": [
      "New Test r2 = 0.7468166187919221\n",
      "All features Test r2 = 0.7471659562994355\n",
      "Drop in r2 = 0.0003493375075134253\n",
      "remove:  health__pct_diabetes\n",
      "DONE!!\n",
      "total features to remove:  12\n",
      "total features to keep:  31\n"
     ]
    }
   ],
   "source": [
    "# the final step consists in removing one at a time\n",
    "# all the features, from the least to the most\n",
    "# important, and build an xgboost at each round.\n",
    "\n",
    "# once we build the model, we calculate the new r2\n",
    "# if the new r2 is smaller than the original one\n",
    "# (with all the features), then that feature that was removed\n",
    "# was important, and we should keep it.\n",
    "# otherwise, we should remove the feature\n",
    "\n",
    "# recursive feature elimination:\n",
    "\n",
    "# first we arbitrarily set the drop in r2\n",
    "# if the drop is below this threshold,\n",
    "# the feature will be removed\n",
    "tol = 0.001\n",
    "\n",
    "print('doing recursive feature elimination')\n",
    "\n",
    "# we initialise a list where we will collect the\n",
    "# features we should remove\n",
    "features_to_remove = []\n",
    "\n",
    "# set a counter to know how far ahead the loop is going\n",
    "count = 1\n",
    "\n",
    "# now we loop over all the features, in order of importance:\n",
    "# remember that features is the list of ordered features\n",
    "# by importance\n",
    "for feature in features:\n",
    "    print()\n",
    "    print('testing feature: ', feature, ' which is feature ', count,\n",
    "          ' out of ', len(features))\n",
    "    count = count + 1\n",
    "\n",
    "    # initialise model\n",
    "    model_int = xgb.XGBRegressor(\n",
    "        nthread=10, max_depth=4, n_estimators=500, learning_rate=0.05)\n",
    "\n",
    "    # fit model with all variables minus the removed features\n",
    "    # and the feature to be evaluated\n",
    "    model_int.fit(\n",
    "        X_train.drop(features_to_remove + [feature], axis=1), y_train)\n",
    "\n",
    "    # make a prediction over the test set\n",
    "    y_pred_test = model_int.predict(\n",
    "        X_test.drop(features_to_remove + [feature], axis=1))\n",
    "\n",
    "    # calculate the new r2\n",
    "    r2_score_int = r2_score(y_test, y_pred_test)\n",
    "    print('New Test r2 = {}'.format((r2_score_int)))\n",
    "\n",
    "    # print the original r2 with all the features\n",
    "    print('All features Test r2 = {}'.format((r2_score_all)))\n",
    "\n",
    "    # determine the drop in the r2\n",
    "    diff_r2 = r2_score_all - r2_score_int\n",
    "\n",
    "    # compare the drop in r2 with the tolerance\n",
    "    # we set previously\n",
    "    if diff_r2 >= tol:\n",
    "        print('Drop in r2 ={}'.format(diff_r2))\n",
    "        print('keep: ', feature)\n",
    "        print\n",
    "    else:\n",
    "        print('Drop in r2 = {}'.format(diff_r2))\n",
    "        print('remove: ', feature)\n",
    "        print\n",
    "        # if the drop in the r2 is small and we remove the\n",
    "        # feature, we need to set the new r2 to the one based on\n",
    "        # the remaining features\n",
    "        r2_score_all = r2_score_int\n",
    "        \n",
    "        # and append the feature to remove to the collecting\n",
    "        # list\n",
    "        features_to_remove.append(feature)\n",
    "\n",
    "# now the loop is finished, we evaluated all the features\n",
    "print('DONE!!')\n",
    "print('total features to remove: ', len(features_to_remove))\n",
    "\n",
    "# determine the features to keep (those we won't remove)\n",
    "features_to_keep = [x for x in features if x not in features_to_remove]\n",
    "print('total features to keep: ', len(features_to_keep))"
   ]
  },
  {
   "cell_type": "code",
   "execution_count": 10,
   "metadata": {},
   "outputs": [
    {
     "name": "stderr",
     "output_type": "stream",
     "text": [
      "/anaconda3/envs/featsel/lib/python3.6/site-packages/xgboost/core.py:587: FutureWarning: Series.base is deprecated and will be removed in a future version\n",
      "  if getattr(data, 'base', None) is not None and \\\n"
     ]
    },
    {
     "name": "stdout",
     "output_type": "stream",
     "text": [
      "Test selected features r2 = 0.747415\n"
     ]
    }
   ],
   "source": [
    "# capture the 31 selected features\n",
    "seed_val = 1000000000\n",
    "np.random.seed(seed_val)\n",
    "\n",
    "# build initial model\n",
    "final_xgb = xgb.XGBRegressor(\n",
    "    nthread=10, max_depth=4, n_estimators=500, learning_rate=0.05)\n",
    "\n",
    "# fit the model with the selected features\n",
    "final_xgb.fit(X_train[features_to_keep], y_train)\n",
    "\n",
    "# make predictions\n",
    "y_pred_test = final_xgb.predict(X_test[features_to_keep])\n",
    "\n",
    "# calculate roc-auc\n",
    "r2_score_final = r2_score(y_test, y_pred_test)\n",
    "print('Test selected features r2 = %f' % (r2_score_final))\n"
   ]
  },
  {
   "cell_type": "code",
   "execution_count": 11,
   "metadata": {},
   "outputs": [
    {
     "data": {
      "text/plain": [
       "Index(['Economic_typo:_Recreation', 'Urban_influence:_NonCore',\n",
       "       'Urban_influence:_small', 'Economic_typo:_Manufacturing-dependent',\n",
       "       'Economic_typo:_Federal/State government-dependent',\n",
       "       'Economic_typo:_Mining_farming', 'Age_Group:_young',\n",
       "       'health__air_pollution_particulate_matter', 'demo__pct_asian',\n",
       "       'demo__pct_hispanic', 'health__pct_excessive_drinking',\n",
       "       'demo__pct_female', 'health__pop_per_dentist',\n",
       "       'econ__pct_uninsured_adults', 'econ__pct_uninsured_children',\n",
       "       'demo__birth_rate_per_1k', 'health__pop_per_primary_care_physician',\n",
       "       'demo__pct_adults_with_some_college',\n",
       "       'demo__pct_adults_with_high_school_diploma',\n",
       "       'demo__pct_american_indian_or_alaskan_native',\n",
       "       'health__pct_adult_smoking', 'demo__pct_below_18_years_of_age',\n",
       "       'demo__pct_non_hispanic_african_american',\n",
       "       'demo__pct_non_hispanic_white',\n",
       "       'health__motor_vehicle_crash_deaths_per_100k',\n",
       "       'health__pct_adult_obesity', 'econ__pct_civilian_labor',\n",
       "       'demo__death_rate_per_1k', 'demo__pct_adults_bachelors_or_higher',\n",
       "       'demo__pct_adults_less_than_a_high_school_diploma',\n",
       "       'health__pct_physical_inacticity'],\n",
       "      dtype='object')"
      ]
     },
     "execution_count": 11,
     "metadata": {},
     "output_type": "execute_result"
    }
   ],
   "source": [
    "X_train[features_to_keep].columns"
   ]
  },
  {
   "cell_type": "markdown",
   "metadata": {},
   "source": [
    "We have reduced the features space from 43 to 31 plus the label, and we improved R2 from 0.67 to 0.747!"
   ]
  },
  {
   "cell_type": "markdown",
   "metadata": {},
   "source": [
    "**2) Improve algorithm XGB Regressor**\n",
    "\n",
    "First I import libraries"
   ]
  },
  {
   "cell_type": "code",
   "execution_count": 25,
   "metadata": {},
   "outputs": [],
   "source": [
    "import numpy as np\n",
    "import pandas as pd\n",
    "from sklearn import preprocessing\n",
    "import xgboost as xgb\n",
    "from xgboost.sklearn import XGBRegressor\n",
    "import datetime\n",
    "from sklearn.model_selection import GridSearchCV"
   ]
  },
  {
   "cell_type": "markdown",
   "metadata": {},
   "source": [
    "Then I look for the best hyperparameters"
   ]
  },
  {
   "cell_type": "code",
   "execution_count": 33,
   "metadata": {},
   "outputs": [
    {
     "name": "stdout",
     "output_type": "stream",
     "text": [
      "Fitting 5 folds for each of 60 candidates, totalling 300 fits\n"
     ]
    },
    {
     "name": "stderr",
     "output_type": "stream",
     "text": [
      "[Parallel(n_jobs=5)]: Using backend LokyBackend with 5 concurrent workers.\n",
      "[Parallel(n_jobs=5)]: Done  40 tasks      | elapsed:  1.5min\n",
      "[Parallel(n_jobs=5)]: Done 190 tasks      | elapsed:  8.6min\n",
      "[Parallel(n_jobs=5)]: Done 300 out of 300 | elapsed: 13.7min finished\n"
     ]
    },
    {
     "name": "stdout",
     "output_type": "stream",
     "text": [
      "0.7581099692248686\n",
      "{'learning_rate': 0.05, 'max_depth': 5, 'n_estimators': 1000, 'nthread': 4}\n"
     ]
    }
   ],
   "source": [
    "improved_xgb = xgb.XGBRegressor()\n",
    "parameters = {'nthread':[4,10], #when use hyperthread, xgboost may become slower\n",
    "              'learning_rate': [.03, 0.05,0.1,0.3,0.5], #so called `eta` value\n",
    "              'max_depth': [3, 4, 5],\n",
    "              'n_estimators': [500,1000]}\n",
    "\n",
    "xgb_grid = GridSearchCV(improved_xgb,\n",
    "                        parameters,\n",
    "                        cv = 5,\n",
    "                        n_jobs = 5,\n",
    "                        verbose=True)\n",
    "\n",
    "xgb_grid.fit(X_train[features_to_keep], y_train)\n",
    "\n",
    "print(xgb_grid.best_score_)\n",
    "print(xgb_grid.best_params_)"
   ]
  },
  {
   "cell_type": "markdown",
   "metadata": {},
   "source": [
    "Use the improved model with the best parameters found"
   ]
  },
  {
   "cell_type": "code",
   "execution_count": 40,
   "metadata": {},
   "outputs": [
    {
     "name": "stderr",
     "output_type": "stream",
     "text": [
      "/anaconda3/envs/featsel/lib/python3.6/site-packages/xgboost/core.py:587: FutureWarning: Series.base is deprecated and will be removed in a future version\n",
      "  if getattr(data, 'base', None) is not None and \\\n"
     ]
    },
    {
     "name": "stdout",
     "output_type": "stream",
     "text": [
      "Improved R2 = 0.771057\n"
     ]
    }
   ],
   "source": [
    "# Use the best parameters for the improved model\n",
    "improved_xgb = xgb.XGBRegressor(\n",
    "    nthread=4, max_depth=5, n_estimators=1000, learning_rate=0.05)\n",
    "\n",
    "# fit the model with the selected features\n",
    "improved_xgb.fit(X_train[features_to_keep], y_train)\n",
    "\n",
    "# make predictions\n",
    "y_pred_test = improved_xgb.predict(X_test[features_to_keep])\n",
    "\n",
    "# calculate roc-auc\n",
    "r2_score_improved = r2_score(y_test, y_pred_test)\n",
    "print('Improved R2 = %f' % (r2_score_improved))"
   ]
  },
  {
   "cell_type": "markdown",
   "metadata": {},
   "source": [
    "4.3 Check for **improvement on R2**"
   ]
  },
  {
   "cell_type": "code",
   "execution_count": 41,
   "metadata": {},
   "outputs": [
    {
     "name": "stdout",
     "output_type": "stream",
     "text": [
      "Original R2 = 0.746817\n",
      "Improved R2 = 0.771057\n",
      "R2 improvement 0.024240195696030198\n"
     ]
    }
   ],
   "source": [
    "print('Original R2 = %f' % (r2_score_all))\n",
    "print('Improved R2 = %f' % (r2_score_improved))\n",
    "print('R2 improvement',(r2_score_improved-r2_score_all))"
   ]
  },
  {
   "cell_type": "markdown",
   "metadata": {},
   "source": [
    "**5. Save model improved**"
   ]
  },
  {
   "cell_type": "code",
   "execution_count": 42,
   "metadata": {},
   "outputs": [],
   "source": [
    "# Saving LogRec model\n",
    "from sklearn.externals import joblib\n",
    "from joblib import dump, load"
   ]
  },
  {
   "cell_type": "code",
   "execution_count": 43,
   "metadata": {},
   "outputs": [
    {
     "data": {
      "text/plain": [
       "['improved_xgb.joblib']"
      ]
     },
     "execution_count": 43,
     "metadata": {},
     "output_type": "execute_result"
    }
   ],
   "source": [
    "dump(improved_xgb,'improved_xgb.joblib')  "
   ]
  },
  {
   "cell_type": "markdown",
   "metadata": {},
   "source": [
    "**6. Verification that the model created will generalize well**"
   ]
  },
  {
   "cell_type": "code",
   "execution_count": 44,
   "metadata": {},
   "outputs": [
    {
     "name": "stdout",
     "output_type": "stream",
     "text": [
      "Mean Square Error      = 773.0149303073982\n",
      "Root Mean Square Error = 27.80314605053533\n",
      "Mean Absolute Error    = 21.121674044926962\n",
      "Median Absolute Error  = 16.40325164794922\n",
      "R^2                    = 0.7710568144879523\n",
      "Adjusted R^2           = 0.7644243402295561\n"
     ]
    }
   ],
   "source": [
    "def print_metrics(y_train, y_test, n_parameters):\n",
    "    ## First compute R^2 and the adjusted R^2\n",
    "    r2 = sklm.r2_score(y_train, y_test)\n",
    "    r2_adj = r2 - (n_parameters - 1)/(y_train.shape[0] - n_parameters) * (1 - r2)\n",
    "    \n",
    "    ## Print the usual metrics and the R^2 values\n",
    "    print('Mean Square Error      = ' + str(sklm.mean_squared_error(y_train, y_test)))\n",
    "    print('Root Mean Square Error = ' + str(math.sqrt(sklm.mean_squared_error(y_train, y_test))))\n",
    "    print('Mean Absolute Error    = ' + str(sklm.mean_absolute_error(y_train, y_test)))\n",
    "    print('Median Absolute Error  = ' + str(sklm.median_absolute_error(y_train, y_test)))\n",
    "    print('R^2                    = ' + str(r2))\n",
    "    print('Adjusted R^2           = ' + str(r2_adj))\n",
    "   \n",
    "y_score = improved_xgb.predict(X_test[features_to_keep]) \n",
    "print_metrics(y_test, y_score, 28)"
   ]
  },
  {
   "cell_type": "markdown",
   "metadata": {},
   "source": [
    "Given the difference between R^2 and Adjusted R2 is so small, we can safely infer that the model will generalize well."
   ]
  },
  {
   "cell_type": "code",
   "execution_count": 45,
   "metadata": {},
   "outputs": [],
   "source": [
    "#Lets look at the residuals plot \n",
    "\n",
    "## Calculate residuals (y-yhat)\n",
    "df['residuals']=y_train - y_test"
   ]
  },
  {
   "cell_type": "code",
   "execution_count": 46,
   "metadata": {},
   "outputs": [
    {
     "data": {
      "image/png": "[encoded data removed]",
      "text/plain": [
       "<Figure size 432x288 with 1 Axes>"
      ]
     },
     "metadata": {
      "needs_background": "light"
     },
     "output_type": "display_data"
    }
   ],
   "source": [
    "def resid_qq(y_train, y_test):\n",
    "    ## first compute vector of residuals. \n",
    "    resids = np.subtract(y_test, y_score)\n",
    "    ## now make the residual plots\n",
    "    ss.probplot(resids, plot = plt)\n",
    "    plt.title('Residuals vs. predicted values')\n",
    "    plt.xlabel('Predicted values')\n",
    "    plt.ylabel('Residual')\n",
    "    \n",
    "resid_qq(y_train, y_test)   "
   ]
  },
  {
   "cell_type": "markdown",
   "metadata": {},
   "source": [
    "As with the histogram, the Q-Q Normal plot indicates the residuals are close to Normally distributed, show some skew (deviation from the straight line). This is particularly for large residuals."
   ]
  },
  {
   "cell_type": "code",
   "execution_count": 47,
   "metadata": {},
   "outputs": [
    {
     "data": {
      "image/png": "[encoded data removed]",
      "text/plain": [
       "<Figure size 432x288 with 1 Axes>"
      ]
     },
     "metadata": {
      "needs_background": "light"
     },
     "output_type": "display_data"
    }
   ],
   "source": [
    "def hist_resids(y_test, y_score):\n",
    "    ## first compute vector of residuals. \n",
    "    resids = np.subtract(y_test, y_score)\n",
    "    ## now make the residual plots\n",
    "    sns.distplot(resids)\n",
    "    plt.title('Histogram of residuals')\n",
    "    plt.xlabel('Residual value')\n",
    "    plt.ylabel('count')\n",
    "    \n",
    "hist_resids(y_test, y_score) "
   ]
  },
  {
   "cell_type": "markdown",
   "metadata": {},
   "source": [
    "This plot looks reasonable. The residual values are distributed near both sides of 0."
   ]
  },
  {
   "cell_type": "code",
   "execution_count": 48,
   "metadata": {},
   "outputs": [
    {
     "data": {
      "image/png": "[encoded data removed]",
      "text/plain": [
       "<Figure size 432x288 with 1 Axes>"
      ]
     },
     "metadata": {
      "needs_background": "light"
     },
     "output_type": "display_data"
    }
   ],
   "source": [
    "def resid_plot(y_test, y_score):\n",
    "    ## first compute vector of residuals. \n",
    "    resids = np.subtract(y_test, y_score)\n",
    "    ## now make the residual plots\n",
    "    sns.regplot(y_score, resids, fit_reg=False)\n",
    "    plt.title('Residuals vs. predicted values')\n",
    "    plt.xlabel('Predicted values')\n",
    "    plt.ylabel('Residual')\n",
    "\n",
    "resid_plot(y_test, y_score)"
   ]
  },
  {
   "cell_type": "markdown",
   "metadata": {},
   "source": [
    "As expected, when plotting residuals we cannot see any clear pattern. Otherwise it would mean there is a hidden pattern we could not identify.\n",
    "\n",
    "Consequently, we can conclude the model we have created will generalize well. "
   ]
  }
 ],
 "metadata": {
  "kernelspec": {
   "display_name": "Python 3",
   "language": "python",
   "name": "python3"
  },
  "language_info": {
   "codemirror_mode": {
    "name": "ipython",
    "version": 3
   },
   "file_extension": ".py",
   "mimetype": "text/x-python",
   "name": "python",
   "nbconvert_exporter": "python",
   "pygments_lexer": "ipython3",
   "version": "3.6.8"
  }
 },
 "nbformat": 4,
 "nbformat_minor": 2
}
