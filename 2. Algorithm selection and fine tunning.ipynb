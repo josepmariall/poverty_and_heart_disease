{
 "cells": [
  {
   "cell_type": "markdown",
   "metadata": {},
   "source": [
    "### II. Algorithm Selection and fine tuning\n",
    "\n",
    "In this part, we create a model, we test different algorithms and see which one delivers the best results. Then we chose the best algorithm and fine tune it. \n",
    "\n",
    "This notebook presents the following parts:\n",
    "\n",
    "    1) Model creation\n",
    "    2) Algorithm testing : Linear Regression (simple, lasso, ridge), Boosted decision tree regressor , Random forest regressor, Bayesian linear regressor\n",
    "    3) Compare and chose the best algorithm\n",
    "    4) Improving the best algorithm\n",
    "        - Finding best hyperparamters\n",
    "        - Updating best parameters on exisitng best algorithm\n",
    "        - Check for improvement\n",
    "    5) Save model\n",
    "    6) Verification that the model created will generalize well (visualizations, etc.)"
   ]
  },
  {
   "cell_type": "code",
   "execution_count": 1,
   "metadata": {},
   "outputs": [],
   "source": [
    "# import libraries\n",
    "import pandas as pd\n",
    "from sklearn import preprocessing\n",
    "import sklearn.model_selection as ms\n",
    "from sklearn import linear_model\n",
    "import sklearn.metrics as sklm\n",
    "import numpy as np\n",
    "import numpy.random as nr\n",
    "import matplotlib.pyplot as plt\n",
    "import seaborn as sns\n",
    "import scipy.stats as ss\n",
    "import math\n",
    "from sklearn.model_selection import train_test_split \n",
    "from sklearn.linear_model import LinearRegression\n",
    "from sklearn import metrics\n",
    "import eli5\n",
    "from eli5.sklearn import PermutationImportance\n",
    "from tabulate import tabulate\n",
    "\n",
    "%matplotlib inline\n",
    "%matplotlib inline"
   ]
  },
  {
   "cell_type": "code",
   "execution_count": 2,
   "metadata": {},
   "outputs": [
    {
     "data": {
      "text/plain": [
       "(3198, 44)"
      ]
     },
     "execution_count": 2,
     "metadata": {},
     "output_type": "execute_result"
    }
   ],
   "source": [
    "#import data set\n",
    "df=pd.read_csv('dfformodeling.csv')\n",
    "df.shape"
   ]
  },
  {
   "cell_type": "code",
   "execution_count": 3,
   "metadata": {},
   "outputs": [
    {
     "data": {
      "text/html": [
       "<div>\n",
       "<style scoped>\n",
       "    .dataframe tbody tr th:only-of-type {\n",
       "        vertical-align: middle;\n",
       "    }\n",
       "\n",
       "    .dataframe tbody tr th {\n",
       "        vertical-align: top;\n",
       "    }\n",
       "\n",
       "    .dataframe thead th {\n",
       "        text-align: right;\n",
       "    }\n",
       "</style>\n",
       "<table border=\"1\" class=\"dataframe\">\n",
       "  <thead>\n",
       "    <tr style=\"text-align: right;\">\n",
       "      <th></th>\n",
       "      <th>demo__birth_rate_per_1k</th>\n",
       "      <th>demo__death_rate_per_1k</th>\n",
       "      <th>demo__pct_adults_bachelors_or_higher</th>\n",
       "      <th>demo__pct_adults_less_than_a_high_school_diploma</th>\n",
       "      <th>demo__pct_adults_with_high_school_diploma</th>\n",
       "      <th>demo__pct_adults_with_some_college</th>\n",
       "      <th>demo__pct_american_indian_or_alaskan_native</th>\n",
       "      <th>demo__pct_asian</th>\n",
       "      <th>demo__pct_below_18_years_of_age</th>\n",
       "      <th>demo__pct_female</th>\n",
       "      <th>...</th>\n",
       "      <th>Economic_typo:_Federal/State government-dependent</th>\n",
       "      <th>Economic_typo:_Manufacturing-dependent</th>\n",
       "      <th>Economic_typo:_Mining_farming</th>\n",
       "      <th>Economic_typo:_Nonspecialized</th>\n",
       "      <th>Economic_typo:_Recreation</th>\n",
       "      <th>Area_rucc:_Metro</th>\n",
       "      <th>Area_rucc:_NonMetro</th>\n",
       "      <th>Age_Group:_old</th>\n",
       "      <th>Age_Group:_young</th>\n",
       "      <th>heart_disease_mortality_per_100k</th>\n",
       "    </tr>\n",
       "  </thead>\n",
       "  <tbody>\n",
       "    <tr>\n",
       "      <th>0</th>\n",
       "      <td>0.117909</td>\n",
       "      <td>0.609758</td>\n",
       "      <td>-0.504912</td>\n",
       "      <td>0.665733</td>\n",
       "      <td>1.045102</td>\n",
       "      <td>-1.415408</td>\n",
       "      <td>-0.244441</td>\n",
       "      <td>-0.082609</td>\n",
       "      <td>0.212671</td>\n",
       "      <td>0.704488</td>\n",
       "      <td>...</td>\n",
       "      <td>-0.37262</td>\n",
       "      <td>2.339225</td>\n",
       "      <td>-0.546672</td>\n",
       "      <td>-0.809367</td>\n",
       "      <td>-0.328747</td>\n",
       "      <td>1.354449</td>\n",
       "      <td>-1.354449</td>\n",
       "      <td>-0.511328</td>\n",
       "      <td>0.511328</td>\n",
       "      <td>312</td>\n",
       "    </tr>\n",
       "    <tr>\n",
       "      <th>1</th>\n",
       "      <td>2.673105</td>\n",
       "      <td>-1.184837</td>\n",
       "      <td>0.670671</td>\n",
       "      <td>0.224590</td>\n",
       "      <td>-1.651557</td>\n",
       "      <td>0.789570</td>\n",
       "      <td>-0.197126</td>\n",
       "      <td>0.074713</td>\n",
       "      <td>1.292277</td>\n",
       "      <td>0.171536</td>\n",
       "      <td>...</td>\n",
       "      <td>-0.37262</td>\n",
       "      <td>-0.427358</td>\n",
       "      <td>1.828678</td>\n",
       "      <td>-0.809367</td>\n",
       "      <td>-0.328747</td>\n",
       "      <td>1.354449</td>\n",
       "      <td>-1.354449</td>\n",
       "      <td>-0.511328</td>\n",
       "      <td>0.511328</td>\n",
       "      <td>257</td>\n",
       "    </tr>\n",
       "  </tbody>\n",
       "</table>\n",
       "<p>2 rows × 44 columns</p>\n",
       "</div>"
      ],
      "text/plain": [
       "   demo__birth_rate_per_1k  demo__death_rate_per_1k  \\\n",
       "0                 0.117909                 0.609758   \n",
       "1                 2.673105                -1.184837   \n",
       "\n",
       "   demo__pct_adults_bachelors_or_higher  \\\n",
       "0                             -0.504912   \n",
       "1                              0.670671   \n",
       "\n",
       "   demo__pct_adults_less_than_a_high_school_diploma  \\\n",
       "0                                          0.665733   \n",
       "1                                          0.224590   \n",
       "\n",
       "   demo__pct_adults_with_high_school_diploma  \\\n",
       "0                                   1.045102   \n",
       "1                                  -1.651557   \n",
       "\n",
       "   demo__pct_adults_with_some_college  \\\n",
       "0                           -1.415408   \n",
       "1                            0.789570   \n",
       "\n",
       "   demo__pct_american_indian_or_alaskan_native  demo__pct_asian  \\\n",
       "0                                    -0.244441        -0.082609   \n",
       "1                                    -0.197126         0.074713   \n",
       "\n",
       "   demo__pct_below_18_years_of_age  demo__pct_female  ...  \\\n",
       "0                         0.212671          0.704488  ...   \n",
       "1                         1.292277          0.171536  ...   \n",
       "\n",
       "   Economic_typo:_Federal/State government-dependent  \\\n",
       "0                                           -0.37262   \n",
       "1                                           -0.37262   \n",
       "\n",
       "   Economic_typo:_Manufacturing-dependent  Economic_typo:_Mining_farming  \\\n",
       "0                                2.339225                      -0.546672   \n",
       "1                               -0.427358                       1.828678   \n",
       "\n",
       "   Economic_typo:_Nonspecialized  Economic_typo:_Recreation  Area_rucc:_Metro  \\\n",
       "0                      -0.809367                  -0.328747          1.354449   \n",
       "1                      -0.809367                  -0.328747          1.354449   \n",
       "\n",
       "   Area_rucc:_NonMetro  Age_Group:_old  Age_Group:_young  \\\n",
       "0            -1.354449       -0.511328          0.511328   \n",
       "1            -1.354449       -0.511328          0.511328   \n",
       "\n",
       "   heart_disease_mortality_per_100k  \n",
       "0                               312  \n",
       "1                               257  \n",
       "\n",
       "[2 rows x 44 columns]"
      ]
     },
     "execution_count": 3,
     "metadata": {},
     "output_type": "execute_result"
    }
   ],
   "source": [
    "df.head(2)"
   ]
  },
  {
   "cell_type": "markdown",
   "metadata": {},
   "source": [
    "**1) Model Creation**"
   ]
  },
  {
   "cell_type": "code",
   "execution_count": 5,
   "metadata": {},
   "outputs": [],
   "source": [
    "# create the model\n",
    "X = df.loc[:, df.columns != 'heart_disease_mortality_per_100k']\n",
    "y = df['heart_disease_mortality_per_100k']\n"
   ]
  },
  {
   "cell_type": "code",
   "execution_count": 6,
   "metadata": {},
   "outputs": [],
   "source": [
    "# Train/test split\n",
    "X_train, X_test, y_train, y_test = train_test_split(X, y, test_size=0.3)"
   ]
  },
  {
   "cell_type": "markdown",
   "metadata": {},
   "source": [
    "**2) Algoirthm testing**"
   ]
  },
  {
   "cell_type": "markdown",
   "metadata": {},
   "source": [
    "2.1Algorithm: **Linear Regression**"
   ]
  },
  {
   "cell_type": "markdown",
   "metadata": {},
   "source": [
    "2.1.1 Linear Regression Simple"
   ]
  },
  {
   "cell_type": "code",
   "execution_count": 7,
   "metadata": {},
   "outputs": [],
   "source": [
    "#Train the Model and predict\n",
    "from sklearn.linear_model import LinearRegression\n",
    "from sklearn.metrics import mean_squared_log_error\n",
    "lm = LinearRegression()\n",
    "lm.fit(X_train,y_train)\n",
    "lm_predictions = lm.predict(X_test)"
   ]
  },
  {
   "cell_type": "code",
   "execution_count": 36,
   "metadata": {},
   "outputs": [
    {
     "name": "stdout",
     "output_type": "stream",
     "text": [
      "Simple Regression RMSLE is 0.12032246369516339\n"
     ]
    }
   ],
   "source": [
    "#print RMSLE\n",
    "print ('Simple Regression RMSLE is', np.sqrt(mean_squared_log_error(y_test, lm_predictions)))"
   ]
  },
  {
   "cell_type": "markdown",
   "metadata": {},
   "source": [
    "2.1.2 Lasso Linear Regression (l1)"
   ]
  },
  {
   "cell_type": "code",
   "execution_count": 10,
   "metadata": {},
   "outputs": [],
   "source": [
    "#Train the Model and predict\n",
    "from sklearn.linear_model import Lasso\n",
    "from sklearn.metrics import mean_squared_log_error\n",
    "Lasso = Lasso()\n",
    "Lasso.fit(X_train,y_train)\n",
    "Lasso_predictions = Lasso.predict(X_test)"
   ]
  },
  {
   "cell_type": "code",
   "execution_count": 11,
   "metadata": {},
   "outputs": [
    {
     "name": "stdout",
     "output_type": "stream",
     "text": [
      "Lasso Regression RMSLE is 0.12245052837931426\n"
     ]
    }
   ],
   "source": [
    "#print RMSLE\n",
    "print ('Lasso Regression RMSLE is', np.sqrt(mean_squared_log_error(y_test, Lasso_predictions)))"
   ]
  },
  {
   "cell_type": "markdown",
   "metadata": {},
   "source": [
    "2.1.3 Ridge Regression (l2)"
   ]
  },
  {
   "cell_type": "code",
   "execution_count": 12,
   "metadata": {},
   "outputs": [],
   "source": [
    "#Train the Model and predict\n",
    "from sklearn.linear_model import Ridge\n",
    "from sklearn.metrics import mean_squared_log_error\n",
    "Ridge = Ridge()\n",
    "Ridge.fit(X_train,y_train)\n",
    "Ridge_predictions = Ridge.predict(X_test)"
   ]
  },
  {
   "cell_type": "code",
   "execution_count": 13,
   "metadata": {},
   "outputs": [
    {
     "name": "stdout",
     "output_type": "stream",
     "text": [
      "Ridge Regression RMSLE is 0.12004120225619297\n"
     ]
    }
   ],
   "source": [
    "#print RMSLE\n",
    "print ('Ridge Regression RMSLE is', np.sqrt(mean_squared_log_error(y_test, Ridge_predictions)))"
   ]
  },
  {
   "cell_type": "markdown",
   "metadata": {},
   "source": [
    "2.2 Algorithm: **Boosted Decision Tree Regressor**"
   ]
  },
  {
   "cell_type": "code",
   "execution_count": 14,
   "metadata": {},
   "outputs": [],
   "source": [
    "#Train the Model and predict\n",
    "from sklearn.tree import DecisionTreeRegressor\n",
    "from sklearn.metrics import mean_squared_log_error\n",
    "Tree = DecisionTreeRegressor()\n",
    "Tree.fit(X_train,y_train)\n",
    "Tree_predictions = Tree.predict(X_test)"
   ]
  },
  {
   "cell_type": "code",
   "execution_count": 15,
   "metadata": {},
   "outputs": [
    {
     "name": "stdout",
     "output_type": "stream",
     "text": [
      "Boosted Decision Tree Regression RMSLE is 0.15594810816718077\n"
     ]
    }
   ],
   "source": [
    "#print RMSLE\n",
    "print ('Boosted Decision Tree Regression RMSLE is', np.sqrt(mean_squared_log_error(y_test, Tree_predictions)))"
   ]
  },
  {
   "cell_type": "markdown",
   "metadata": {},
   "source": [
    "2.3 Algorithm: **Random Forest Regressor**"
   ]
  },
  {
   "cell_type": "code",
   "execution_count": 16,
   "metadata": {},
   "outputs": [
    {
     "name": "stderr",
     "output_type": "stream",
     "text": [
      "C:\\Users\\Florence\\Anaconda333\\envs\\xebiamow\\lib\\site-packages\\sklearn\\ensemble\\forest.py:246: FutureWarning: The default value of n_estimators will change from 10 in version 0.20 to 100 in 0.22.\n",
      "  \"10 in version 0.20 to 100 in 0.22.\", FutureWarning)\n"
     ]
    }
   ],
   "source": [
    "#Train the Model and predict\n",
    "from sklearn.ensemble import RandomForestRegressor\n",
    "from sklearn.metrics import mean_squared_log_error\n",
    "Forest = RandomForestRegressor()\n",
    "Forest.fit(X_train,y_train)\n",
    "Forest_predictions = Forest.predict(X_test)"
   ]
  },
  {
   "cell_type": "code",
   "execution_count": 17,
   "metadata": {},
   "outputs": [
    {
     "name": "stdout",
     "output_type": "stream",
     "text": [
      "Random Forest Regression RMSLE is 0.11182355529687472\n"
     ]
    }
   ],
   "source": [
    "#print RMSLE\n",
    "print ('Random Forest Regression RMSLE is', np.sqrt(mean_squared_log_error(y_test, Forest_predictions)))"
   ]
  },
  {
   "cell_type": "markdown",
   "metadata": {},
   "source": [
    "2.4 Algorithm: **Bayesian Linear Regressor**"
   ]
  },
  {
   "cell_type": "code",
   "execution_count": 18,
   "metadata": {},
   "outputs": [],
   "source": [
    "#Train the Model and predict\n",
    "from sklearn.linear_model import BayesianRidge\n",
    "from sklearn.metrics import mean_squared_log_error\n",
    "Bayesian = BayesianRidge()\n",
    "Bayesian.fit(X_train,y_train)\n",
    "Bayesian_predictions = Bayesian.predict(X_test)"
   ]
  },
  {
   "cell_type": "code",
   "execution_count": 19,
   "metadata": {},
   "outputs": [
    {
     "name": "stdout",
     "output_type": "stream",
     "text": [
      "Bayesian Ridge Regression RMSLE is 0.12094768632069493\n"
     ]
    }
   ],
   "source": [
    "#print RMSLE\n",
    "print ('Bayesian Ridge Regression RMSLE is', np.sqrt(mean_squared_log_error(y_test, Bayesian_predictions)))"
   ]
  },
  {
   "cell_type": "markdown",
   "metadata": {},
   "source": [
    "**3. Compare and chose best model**"
   ]
  },
  {
   "cell_type": "code",
   "execution_count": 20,
   "metadata": {},
   "outputs": [
    {
     "name": "stdout",
     "output_type": "stream",
     "text": [
      "Simple Regression RMSLE is 0.12032246369516339\n",
      "Lasso Regression RMSLE is 0.12245052837931426\n",
      "Ridge Regression RMSLE is 0.12004120225619297\n",
      "Boosted Decision Tree Regression RMSLE is 0.15594810816718077\n",
      "Random Forest Regression RMSLE is 0.11182355529687472\n",
      "Bayesian Ridge Regression RMSLE is 0.12094768632069493\n"
     ]
    }
   ],
   "source": [
    "print ('Simple Regression RMSLE is', np.sqrt(mean_squared_log_error(y_test, lm_predictions)))\n",
    "print ('Lasso Regression RMSLE is', np.sqrt(mean_squared_log_error(y_test, Lasso_predictions)))\n",
    "print ('Ridge Regression RMSLE is', np.sqrt(mean_squared_log_error(y_test, Ridge_predictions)))\n",
    "print ('Boosted Decision Tree Regression RMSLE is', np.sqrt(mean_squared_log_error(y_test, Tree_predictions)))\n",
    "print ('Random Forest Regression RMSLE is', np.sqrt(mean_squared_log_error(y_test, Forest_predictions)))\n",
    "print ('Bayesian Ridge Regression RMSLE is', np.sqrt(mean_squared_log_error(y_test, Bayesian_predictions)))"
   ]
  },
  {
   "cell_type": "markdown",
   "metadata": {},
   "source": [
    "Clearly Random Forest is the best algorithm as it has lowest RMSLE"
   ]
  },
  {
   "cell_type": "markdown",
   "metadata": {},
   "source": [
    "**4) Improving the model**"
   ]
  },
  {
   "cell_type": "code",
   "execution_count": 21,
   "metadata": {},
   "outputs": [
    {
     "name": "stdout",
     "output_type": "stream",
     "text": [
      "health__pct_physical_inacticity                    0.276374\n",
      "health__pct_diabetes                               0.120078\n",
      "demo__pct_adults_less_than_a_high_school_diploma   0.0982816\n",
      "health__pct_adult_obesity                          0.0456369\n",
      "demo__pct_adults_bachelors_or_higher               0.0441919\n",
      "econ__pct_civilian_labor                           0.0418768\n",
      "demo__death_rate_per_1k                            0.0344377\n",
      "demo__pct_non_hispanic_african_american            0.0312728\n",
      "health__motor_vehicle_crash_deaths_per_100k        0.028219\n",
      "demo__pct_non_hispanic_white                       0.0233194\n",
      "health__pct_adult_smoking                          0.0225225\n",
      "health__pct_low_birthweight                        0.0222918\n",
      "demo__pct_below_18_years_of_age                    0.0213579\n",
      "econ__pct_unemployment                             0.0187388\n",
      "demo__pct_adults_with_high_school_diploma          0.0170205\n",
      "demo__pct_adults_with_some_college                 0.0156087\n",
      "econ__pct_uninsured_children                       0.0153569\n",
      "health__pop_per_dentist                            0.0152314\n",
      "health__pct_excessive_drinking                     0.0147603\n",
      "demo__birth_rate_per_1k                            0.0129305\n",
      "econ__pct_uninsured_adults                         0.0113391\n",
      "health__pop_per_primary_care_physician             0.0107316\n",
      "demo__pct_american_indian_or_alaskan_native        0.010441\n",
      "demo__pct_hispanic                                 0.00979524\n",
      "demo__pct_female                                   0.0087157\n",
      "demo__pct_asian                                    0.00755082\n",
      "health__air_pollution_particulate_matter           0.00422739\n",
      "Economic_typo:_Mining_farming                      0.0032666\n",
      "Economic_typo:_Nonspecialized                      0.00232597\n",
      "Age_Group:_young                                   0.00217246\n",
      "Economic_typo:_Manufacturing-dependent             0.00137465\n",
      "Urban_influence:_NonCore                           0.00132804\n",
      "Age_Group:_old                                     0.00114121\n",
      "Economic_typo:_Federal/State government-dependent  0.00100631\n",
      "Year:_a                                            0.000926803\n",
      "Urban_influence:_Large                             0.000687504\n",
      "Area_rucc:_Metro                                   0.000659904\n",
      "Urban_influence:_Micro                             0.00063657\n",
      "Urban_influence:_Noncore                           0.000549574\n",
      "Economic_typo:_Recreation                          0.000495415\n",
      "Urban_influence:_small                             0.000492693\n",
      "Area_rucc:_NonMetro                                0.000318968\n",
      "Year:_b                                            0.00030886\n"
     ]
    }
   ],
   "source": [
    "# See if there is any feature with 0 coefficient\n",
    "values = sorted(zip(X_train.columns, Forest.feature_importances_), key=lambda x: x[1] * -1)\n",
    "print(tabulate(values, tablefmt=\"plain\"))"
   ]
  },
  {
   "cell_type": "markdown",
   "metadata": {},
   "source": [
    "Since there is no feature with 0 coefficient, there is no need to prune any feature for improve Random Forest Regressor."
   ]
  },
  {
   "cell_type": "markdown",
   "metadata": {},
   "source": [
    "4.1 Find best model hyperparameters"
   ]
  },
  {
   "cell_type": "code",
   "execution_count": 22,
   "metadata": {},
   "outputs": [
    {
     "name": "stdout",
     "output_type": "stream",
     "text": [
      "Parameters currently in use:\n",
      "\n",
      "{'bootstrap': True,\n",
      " 'criterion': 'mse',\n",
      " 'max_depth': None,\n",
      " 'max_features': 'auto',\n",
      " 'max_leaf_nodes': None,\n",
      " 'min_impurity_decrease': 0.0,\n",
      " 'min_impurity_split': None,\n",
      " 'min_samples_leaf': 1,\n",
      " 'min_samples_split': 2,\n",
      " 'min_weight_fraction_leaf': 0.0,\n",
      " 'n_estimators': 'warn',\n",
      " 'n_jobs': None,\n",
      " 'oob_score': False,\n",
      " 'random_state': 42,\n",
      " 'verbose': 0,\n",
      " 'warm_start': False}\n"
     ]
    }
   ],
   "source": [
    "rf = RandomForestRegressor(random_state = 42)\n",
    "from pprint import pprint\n",
    "\n",
    "# Look at parameters used by our current forest\n",
    "print('Parameters currently in use:\\n')\n",
    "pprint(rf.get_params())"
   ]
  },
  {
   "cell_type": "code",
   "execution_count": 23,
   "metadata": {},
   "outputs": [
    {
     "name": "stdout",
     "output_type": "stream",
     "text": [
      "{'bootstrap': [True, False],\n",
      " 'max_depth': [10, 20, 30, 40, 50, 60, 70, 80, 90, 100, 110, None],\n",
      " 'max_features': ['auto', 'sqrt'],\n",
      " 'min_samples_leaf': [1, 2, 4],\n",
      " 'min_samples_split': [2, 5, 10],\n",
      " 'n_estimators': [200, 400, 600, 800, 1000, 1200, 1400, 1600, 1800, 2000]}\n"
     ]
    }
   ],
   "source": [
    "# Create Random Hyperparamter Grid\n",
    "from sklearn.model_selection import RandomizedSearchCV\n",
    "# Number of trees in random forest\n",
    "n_estimators = [int(x) for x in np.linspace(start = 200, stop = 2000, num = 10)]\n",
    "# Number of features to consider at every split\n",
    "max_features = ['auto', 'sqrt']\n",
    "# Maximum number of levels in tree\n",
    "max_depth = [int(x) for x in np.linspace(10, 110, num = 11)]\n",
    "max_depth.append(None)\n",
    "# Minimum number of samples required to split a node\n",
    "min_samples_split = [2, 5, 10]\n",
    "# Minimum number of samples required at each leaf node\n",
    "min_samples_leaf = [1, 2, 4]\n",
    "# Method of selecting samples for training each tree\n",
    "bootstrap = [True, False]\n",
    "# Create the random grid\n",
    "random_grid = {'n_estimators': n_estimators,\n",
    "               'max_features': max_features,\n",
    "               'max_depth': max_depth,\n",
    "               'min_samples_split': min_samples_split,\n",
    "               'min_samples_leaf': min_samples_leaf,\n",
    "               'bootstrap': bootstrap}\n",
    "pprint(random_grid)"
   ]
  },
  {
   "cell_type": "code",
   "execution_count": 24,
   "metadata": {},
   "outputs": [
    {
     "name": "stdout",
     "output_type": "stream",
     "text": [
      "Fitting 3 folds for each of 100 candidates, totalling 300 fits\n"
     ]
    },
    {
     "name": "stderr",
     "output_type": "stream",
     "text": [
      "[Parallel(n_jobs=-1)]: Using backend LokyBackend with 4 concurrent workers.\n",
      "[Parallel(n_jobs=-1)]: Done  33 tasks      | elapsed:  3.6min\n",
      "[Parallel(n_jobs=-1)]: Done 154 tasks      | elapsed: 16.8min\n",
      "[Parallel(n_jobs=-1)]: Done 300 out of 300 | elapsed: 33.7min finished\n"
     ]
    },
    {
     "data": {
      "text/plain": [
       "RandomizedSearchCV(cv=3, error_score='raise-deprecating',\n",
       "          estimator=RandomForestRegressor(bootstrap=True, criterion='mse', max_depth=None,\n",
       "           max_features='auto', max_leaf_nodes=None,\n",
       "           min_impurity_decrease=0.0, min_impurity_split=None,\n",
       "           min_samples_leaf=1, min_samples_split=2,\n",
       "           min_weight_fraction_leaf=0.0, n_estimators='warn', n_jobs=None,\n",
       "           oob_score=False, random_state=None, verbose=0, warm_start=False),\n",
       "          fit_params=None, iid='warn', n_iter=100, n_jobs=-1,\n",
       "          param_distributions={'n_estimators': [200, 400, 600, 800, 1000, 1200, 1400, 1600, 1800, 2000], 'max_features': ['auto', 'sqrt'], 'max_depth': [10, 20, 30, 40, 50, 60, 70, 80, 90, 100, 110, None], 'min_samples_split': [2, 5, 10], 'min_samples_leaf': [1, 2, 4], 'bootstrap': [True, False]},\n",
       "          pre_dispatch='2*n_jobs', random_state=42, refit=True,\n",
       "          return_train_score='warn', scoring=None, verbose=2)"
      ]
     },
     "execution_count": 24,
     "metadata": {},
     "output_type": "execute_result"
    }
   ],
   "source": [
    "# Random Search Training\n",
    "# Use the random grid to search for best hyperparameters\n",
    "# First create the base model to tune\n",
    "rf = RandomForestRegressor()\n",
    "# Random search of parameters, using 3 fold cross validation, \n",
    "# search across 100 different combinations, and use all available cores\n",
    "rf_random = RandomizedSearchCV(estimator = rf, param_distributions = random_grid, n_iter = 100, cv = 3, verbose=2, random_state=42, n_jobs = -1)\n",
    "# Fit the random search model\n",
    "rf_random.fit(X_train, y_train)"
   ]
  },
  {
   "cell_type": "code",
   "execution_count": 25,
   "metadata": {},
   "outputs": [
    {
     "data": {
      "text/plain": [
       "{'n_estimators': 400,\n",
       " 'min_samples_split': 2,\n",
       " 'min_samples_leaf': 1,\n",
       " 'max_features': 'sqrt',\n",
       " 'max_depth': None,\n",
       " 'bootstrap': False}"
      ]
     },
     "execution_count": 25,
     "metadata": {},
     "output_type": "execute_result"
    }
   ],
   "source": [
    "rf_random.best_params_"
   ]
  },
  {
   "cell_type": "markdown",
   "metadata": {},
   "source": [
    "4.2 Updating best parameters on exisitng best algorithm"
   ]
  },
  {
   "cell_type": "code",
   "execution_count": 26,
   "metadata": {},
   "outputs": [],
   "source": [
    "from sklearn.ensemble import RandomForestRegressor\n",
    "Forestimproved = RandomForestRegressor(n_estimators = 400, min_samples_split=2, \n",
    "                                       min_samples_leaf=1, max_features='auto', max_depth=100, bootstrap=True)"
   ]
  },
  {
   "cell_type": "code",
   "execution_count": 27,
   "metadata": {},
   "outputs": [
    {
     "name": "stdout",
     "output_type": "stream",
     "text": [
      "Forest Improved Regression RMSLE is 0.10612202099910596\n"
     ]
    }
   ],
   "source": [
    "Forestimproved.fit(X_train, y_train)\n",
    "Forestimproved_predictions = Forestimproved.predict(X_test)\n",
    "print ('Forest Improved Regression RMSLE is', np.sqrt(mean_squared_log_error(y_test, Forestimproved_predictions)))"
   ]
  },
  {
   "cell_type": "markdown",
   "metadata": {},
   "source": [
    "4.3 Check for **improvement on RMSLE**"
   ]
  },
  {
   "cell_type": "code",
   "execution_count": 28,
   "metadata": {},
   "outputs": [
    {
     "name": "stdout",
     "output_type": "stream",
     "text": [
      "Random Forest Regression RMSE is 0.11182355529687472\n",
      "Forest Improved Regression RMSE is 0.10612202099910596\n",
      "RMSE improvement on new Forest Random Regressor is = 0.005701534297768762\n"
     ]
    }
   ],
   "source": [
    "print ('Random Forest Regression RMSE is', np.sqrt(mean_squared_log_error(y_test, Forest_predictions)))\n",
    "print ('Forest Improved Regression RMSE is', np.sqrt(mean_squared_log_error(y_test, Forestimproved_predictions)))\n",
    "print ('RMSE improvement on new Forest Random Regressor is =', (np.sqrt(mean_squared_log_error(y_test, Forest_predictions))-np.sqrt(mean_squared_log_error(y_test, Forestimproved_predictions))))"
   ]
  },
  {
   "cell_type": "markdown",
   "metadata": {},
   "source": [
    "**5. Save model improved**"
   ]
  },
  {
   "cell_type": "code",
   "execution_count": 29,
   "metadata": {},
   "outputs": [],
   "source": [
    "# Saving LogRec model\n",
    "from sklearn.externals import joblib\n",
    "from joblib import dump, load"
   ]
  },
  {
   "cell_type": "code",
   "execution_count": 30,
   "metadata": {},
   "outputs": [
    {
     "data": {
      "text/plain": [
       "['Forestimproved.joblib']"
      ]
     },
     "execution_count": 30,
     "metadata": {},
     "output_type": "execute_result"
    }
   ],
   "source": [
    "dump(Forestimproved,'Forestimproved.joblib')  "
   ]
  },
  {
   "cell_type": "markdown",
   "metadata": {},
   "source": [
    "**6. Verification that the model created will generalize well**"
   ]
  },
  {
   "cell_type": "code",
   "execution_count": 31,
   "metadata": {},
   "outputs": [
    {
     "name": "stdout",
     "output_type": "stream",
     "text": [
      "Mean Square Error      = 833.1948041731771\n",
      "Root Mean Square Error = 28.865113964319924\n",
      "Mean Absolute Error    = 22.256903645833333\n",
      "Median Absolute Error  = 17.391249999999985\n",
      "R^2                    = 0.7423286914371872\n",
      "Adjusted R^2           = 0.7348639646869769\n"
     ]
    }
   ],
   "source": [
    "def print_metrics(y_train, y_test, n_parameters):\n",
    "    ## First compute R^2 and the adjusted R^2\n",
    "    r2 = sklm.r2_score(y_train, y_test)\n",
    "    r2_adj = r2 - (n_parameters - 1)/(y_train.shape[0] - n_parameters) * (1 - r2)\n",
    "    \n",
    "    ## Print the usual metrics and the R^2 values\n",
    "    print('Mean Square Error      = ' + str(sklm.mean_squared_error(y_train, y_test)))\n",
    "    print('Root Mean Square Error = ' + str(math.sqrt(sklm.mean_squared_error(y_train, y_test))))\n",
    "    print('Mean Absolute Error    = ' + str(sklm.mean_absolute_error(y_train, y_test)))\n",
    "    print('Median Absolute Error  = ' + str(sklm.median_absolute_error(y_train, y_test)))\n",
    "    print('R^2                    = ' + str(r2))\n",
    "    print('Adjusted R^2           = ' + str(r2_adj))\n",
    "   \n",
    "y_score = Forestimproved.predict(X_test) \n",
    "print_metrics(y_test, y_score, 28)"
   ]
  },
  {
   "cell_type": "markdown",
   "metadata": {},
   "source": [
    "Given the difference between R^2 and Adjusted R2 is so small, we can safely infer that the model will generalize well."
   ]
  },
  {
   "cell_type": "code",
   "execution_count": 32,
   "metadata": {},
   "outputs": [],
   "source": [
    "#Lets look at the residuals plot \n",
    "\n",
    "## Calculate residuals (y-yhat)\n",
    "df['residuals']=y_train - y_test"
   ]
  },
  {
   "cell_type": "code",
   "execution_count": 33,
   "metadata": {},
   "outputs": [
    {
     "data": {
      "image/png": "[encoded data removed]",
      "text/plain": [
       "<Figure size 432x288 with 1 Axes>"
      ]
     },
     "metadata": {
      "needs_background": "light"
     },
     "output_type": "display_data"
    }
   ],
   "source": [
    "def resid_qq(y_train, y_test):\n",
    "    ## first compute vector of residuals. \n",
    "    resids = np.subtract(y_test, y_score)\n",
    "    ## now make the residual plots\n",
    "    ss.probplot(resids, plot = plt)\n",
    "    plt.title('Residuals vs. predicted values')\n",
    "    plt.xlabel('Predicted values')\n",
    "    plt.ylabel('Residual')\n",
    "    \n",
    "resid_qq(y_train, y_test)   "
   ]
  },
  {
   "cell_type": "markdown",
   "metadata": {},
   "source": [
    "As with the histogram, the Q-Q Normal plot indicates the residuals are close to Normally distributed, show some skew (deviation from the straight line). This is particularly for large residuals."
   ]
  },
  {
   "cell_type": "code",
   "execution_count": 34,
   "metadata": {},
   "outputs": [
    {
     "data": {
      "image/png": "[encoded data removed]",
      "text/plain": [
       "<Figure size 432x288 with 1 Axes>"
      ]
     },
     "metadata": {
      "needs_background": "light"
     },
     "output_type": "display_data"
    }
   ],
   "source": [
    "def hist_resids(y_test, y_score):\n",
    "    ## first compute vector of residuals. \n",
    "    resids = np.subtract(y_test, y_score)\n",
    "    ## now make the residual plots\n",
    "    sns.distplot(resids)\n",
    "    plt.title('Histogram of residuals')\n",
    "    plt.xlabel('Residual value')\n",
    "    plt.ylabel('count')\n",
    "    \n",
    "hist_resids(y_test, y_score) "
   ]
  },
  {
   "cell_type": "markdown",
   "metadata": {},
   "source": [
    "This plot looks reasonable. The residual values are distributed near both sides of 0."
   ]
  },
  {
   "cell_type": "code",
   "execution_count": 35,
   "metadata": {},
   "outputs": [
    {
     "data": {
      "image/png": "[encoded data removed]",
      "text/plain": [
       "<Figure size 432x288 with 1 Axes>"
      ]
     },
     "metadata": {
      "needs_background": "light"
     },
     "output_type": "display_data"
    }
   ],
   "source": [
    "def resid_plot(y_test, y_score):\n",
    "    ## first compute vector of residuals. \n",
    "    resids = np.subtract(y_test, y_score)\n",
    "    ## now make the residual plots\n",
    "    sns.regplot(y_score, resids, fit_reg=False)\n",
    "    plt.title('Residuals vs. predicted values')\n",
    "    plt.xlabel('Predicted values')\n",
    "    plt.ylabel('Residual')\n",
    "\n",
    "resid_plot(y_test, y_score)"
   ]
  },
  {
   "cell_type": "markdown",
   "metadata": {},
   "source": [
    "As expected, when plotting residuals we cannot see any clear pattern. Otherwise it would mean there is a hidden pattern we could not identify.\n",
    "\n",
    "Consequently, we can conclude the model we have created will generalize well. "
   ]
  }
 ],
 "metadata": {
  "kernelspec": {
   "display_name": "Python 3",
   "language": "python",
   "name": "python3"
  },
  "language_info": {
   "codemirror_mode": {
    "name": "ipython",
    "version": 3
   },
   "file_extension": ".py",
   "mimetype": "text/x-python",
   "name": "python",
   "nbconvert_exporter": "python",
   "pygments_lexer": "ipython3",
   "version": "3.7.2"
  }
 },
 "nbformat": 4,
 "nbformat_minor": 2
}
